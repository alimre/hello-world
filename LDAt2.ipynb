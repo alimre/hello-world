{
  "nbformat": 4,
  "nbformat_minor": 0,
  "metadata": {
    "colab": {
      "name": "LDAt2.ipynb",
      "provenance": [],
      "collapsed_sections": [],
      "toc_visible": true,
      "authorship_tag": "ABX9TyOY560u+Ku0Rl59NQigQVpf"
    },
    "kernelspec": {
      "name": "python3",
      "display_name": "Python 3"
    },
    "language_info": {
      "name": "python"
    },
    "accelerator": "GPU"
  },
  "cells": [
    {
      "cell_type": "markdown",
      "metadata": {
        "id": "50mS8rZXzFue"
      },
      "source": [
        "# Latent Dirichlet Allocation \n",
        "---"
      ]
    },
    {
      "cell_type": "code",
      "metadata": {
        "colab": {
          "base_uri": "https://localhost:8080/"
        },
        "id": "DrB_g_9b-r3R",
        "outputId": "bfbf85c6-e8f7-466d-98bd-f210a838321d"
      },
      "source": [
        "from google.colab import drive\n",
        "drive.mount('/content/gdrive')"
      ],
      "execution_count": null,
      "outputs": [
        {
          "output_type": "stream",
          "name": "stdout",
          "text": [
            "Mounted at /content/gdrive\n"
          ]
        }
      ]
    },
    {
      "cell_type": "code",
      "metadata": {
        "id": "GO0eGutG-r6A"
      },
      "source": [
        "import os\n",
        "current_folder = \"/content/gdrive/My Drive/Workshop/TOM/\"\n",
        "os.chdir(current_folder)"
      ],
      "execution_count": null,
      "outputs": []
    },
    {
      "cell_type": "code",
      "metadata": {
        "id": "aXrNzemq-r8s"
      },
      "source": [
        "# datasets_link = \"/content/gdrive/MyDrive/Master/3Entscheidung/AFVFND/SecondWeek/SecondAssignment/FakeNewsDetection/FakeNewsDatasets/04/\"\n",
        "# os.listdir(datasets_link)\n",
        "    "
      ],
      "execution_count": null,
      "outputs": []
    },
    {
      "cell_type": "markdown",
      "metadata": {
        "id": "A8BeOCG47Y9l"
      },
      "source": [
        "## Data"
      ]
    },
    {
      "cell_type": "code",
      "metadata": {
        "id": "NrEO-KVE7D-n"
      },
      "source": [
        "import pandas as pd\n",
        "import matplotlib.pyplot as plt\n",
        "import numpy as np\n",
        "from sklearn.model_selection import train_test_split\n",
        "from nltk.corpus import stopwords\n",
        "import re \n",
        "from nltk.stem import WordNetLemmatizer"
      ],
      "execution_count": null,
      "outputs": []
    },
    {
      "cell_type": "code",
      "metadata": {
        "colab": {
          "base_uri": "https://localhost:8080/",
          "height": 267
        },
        "id": "vPH4fB7W7Znh",
        "outputId": "bf54d7be-12a9-4798-d93d-d1f47132fa15"
      },
      "source": [
        "# 0: Fake, 1: Real\n",
        "# dataset_link = os.path.join(datasets_link, \"dataset.csv\")\n",
        "data = pd.read_csv(\"issues_plus_cleaned.csv\")\n",
        "# data = pd.read_csv(\"issues.csv\")\n",
        "data.head(2)"
      ],
      "execution_count": null,
      "outputs": [
        {
          "output_type": "stream",
          "name": "stderr",
          "text": [
            "/usr/local/lib/python3.7/dist-packages/IPython/core/interactiveshell.py:2718: DtypeWarning: Columns (2) have mixed types.Specify dtype option on import or set low_memory=False.\n",
            "  interactivity=interactivity, compiler=compiler, result=result)\n"
          ]
        },
        {
          "output_type": "execute_result",
          "data": {
            "text/html": [
              "<div>\n",
              "<style scoped>\n",
              "    .dataframe tbody tr th:only-of-type {\n",
              "        vertical-align: middle;\n",
              "    }\n",
              "\n",
              "    .dataframe tbody tr th {\n",
              "        vertical-align: top;\n",
              "    }\n",
              "\n",
              "    .dataframe thead th {\n",
              "        text-align: right;\n",
              "    }\n",
              "</style>\n",
              "<table border=\"1\" class=\"dataframe\">\n",
              "  <thead>\n",
              "    <tr style=\"text-align: right;\">\n",
              "      <th></th>\n",
              "      <th>Unnamed: 0</th>\n",
              "      <th>Unnamed: 0.1</th>\n",
              "      <th>active_lock_reason</th>\n",
              "      <th>assignee</th>\n",
              "      <th>author_association</th>\n",
              "      <th>body</th>\n",
              "      <th>closed_at</th>\n",
              "      <th>comments</th>\n",
              "      <th>comments_url</th>\n",
              "      <th>created_at</th>\n",
              "      <th>draft</th>\n",
              "      <th>events_url</th>\n",
              "      <th>html_url</th>\n",
              "      <th>id</th>\n",
              "      <th>labels_url</th>\n",
              "      <th>locked</th>\n",
              "      <th>milestone</th>\n",
              "      <th>node_id</th>\n",
              "      <th>number</th>\n",
              "      <th>performed_via_github_app</th>\n",
              "      <th>reaction +1</th>\n",
              "      <th>reaction -1</th>\n",
              "      <th>reaction confused</th>\n",
              "      <th>reaction eyes</th>\n",
              "      <th>reaction heart</th>\n",
              "      <th>reaction hooray</th>\n",
              "      <th>reaction laugh</th>\n",
              "      <th>reaction rocket</th>\n",
              "      <th>reaction total_count</th>\n",
              "      <th>reaction url</th>\n",
              "      <th>repository_url</th>\n",
              "      <th>state</th>\n",
              "      <th>timeline_url</th>\n",
              "      <th>title</th>\n",
              "      <th>updated_at</th>\n",
              "      <th>url</th>\n",
              "      <th>clean_title</th>\n",
              "      <th>code_title</th>\n",
              "    </tr>\n",
              "  </thead>\n",
              "  <tbody>\n",
              "    <tr>\n",
              "      <th>0</th>\n",
              "      <td>0</td>\n",
              "      <td>0</td>\n",
              "      <td>NaN</td>\n",
              "      <td>NaN</td>\n",
              "      <td>NONE</td>\n",
              "      <td>&lt;!--\\r\\nThanks for raising a Spring Boot issue...</td>\n",
              "      <td>NaN</td>\n",
              "      <td>0</td>\n",
              "      <td>https://api.github.com/repos/spring-projects/s...</td>\n",
              "      <td>2021-12-08T04:22:27Z</td>\n",
              "      <td>NaN</td>\n",
              "      <td>https://api.github.com/repos/spring-projects/s...</td>\n",
              "      <td>https://github.com/spring-projects/spring-boot...</td>\n",
              "      <td>1073997023</td>\n",
              "      <td>https://api.github.com/repos/spring-projects/s...</td>\n",
              "      <td>False</td>\n",
              "      <td>NaN</td>\n",
              "      <td>I_kwDOAGAU1s5AA-Tf</td>\n",
              "      <td>28926</td>\n",
              "      <td>NaN</td>\n",
              "      <td>0</td>\n",
              "      <td>0</td>\n",
              "      <td>0</td>\n",
              "      <td>0</td>\n",
              "      <td>0</td>\n",
              "      <td>0</td>\n",
              "      <td>0</td>\n",
              "      <td>0</td>\n",
              "      <td>0</td>\n",
              "      <td>https://api.github.com/repos/spring-projects/s...</td>\n",
              "      <td>https://api.github.com/repos/spring-projects/s...</td>\n",
              "      <td>open</td>\n",
              "      <td>https://api.github.com/repos/spring-projects/s...</td>\n",
              "      <td>Springboot does not handle webapplicationtype ...</td>\n",
              "      <td>2021-12-08T04:26:56Z</td>\n",
              "      <td>https://api.github.com/repos/spring-projects/s...</td>\n",
              "      <td>Springboot does not handle webapplicationtype ...</td>\n",
              "      <td>without code</td>\n",
              "    </tr>\n",
              "    <tr>\n",
              "      <th>1</th>\n",
              "      <td>1</td>\n",
              "      <td>1</td>\n",
              "      <td>NaN</td>\n",
              "      <td>NaN</td>\n",
              "      <td>NONE</td>\n",
              "      <td>https://github.com/spring-projects/spring-boot...</td>\n",
              "      <td>NaN</td>\n",
              "      <td>0</td>\n",
              "      <td>https://api.github.com/repos/spring-projects/s...</td>\n",
              "      <td>2021-12-08T03:14:11Z</td>\n",
              "      <td>False</td>\n",
              "      <td>https://api.github.com/repos/spring-projects/s...</td>\n",
              "      <td>https://github.com/spring-projects/spring-boot...</td>\n",
              "      <td>1073964145</td>\n",
              "      <td>https://api.github.com/repos/spring-projects/s...</td>\n",
              "      <td>False</td>\n",
              "      <td>NaN</td>\n",
              "      <td>PR_kwDOAGAU1s4viBbh</td>\n",
              "      <td>28925</td>\n",
              "      <td>NaN</td>\n",
              "      <td>0</td>\n",
              "      <td>0</td>\n",
              "      <td>0</td>\n",
              "      <td>0</td>\n",
              "      <td>0</td>\n",
              "      <td>0</td>\n",
              "      <td>0</td>\n",
              "      <td>0</td>\n",
              "      <td>0</td>\n",
              "      <td>https://api.github.com/repos/spring-projects/s...</td>\n",
              "      <td>https://api.github.com/repos/spring-projects/s...</td>\n",
              "      <td>open</td>\n",
              "      <td>https://api.github.com/repos/spring-projects/s...</td>\n",
              "      <td>Replace if condition in catch block with catch...</td>\n",
              "      <td>2021-12-08T03:16:56Z</td>\n",
              "      <td>https://api.github.com/repos/spring-projects/s...</td>\n",
              "      <td>Replace if condition in catch block with catch...</td>\n",
              "      <td>without code</td>\n",
              "    </tr>\n",
              "  </tbody>\n",
              "</table>\n",
              "</div>"
            ],
            "text/plain": [
              "   Unnamed: 0  ...    code_title\n",
              "0           0  ...  without code\n",
              "1           1  ...  without code\n",
              "\n",
              "[2 rows x 38 columns]"
            ]
          },
          "metadata": {},
          "execution_count": 5
        }
      ]
    },
    {
      "cell_type": "code",
      "metadata": {
        "colab": {
          "base_uri": "https://localhost:8080/",
          "height": 233
        },
        "id": "M7IfofNn7Zph",
        "outputId": "b1a282fc-369e-432f-e5e9-d23a40a67ebf"
      },
      "source": [
        "real_news = data#.drop(data[data[\"clean\"]==\"0\"].index)\n",
        "real_news.head(2)"
      ],
      "execution_count": null,
      "outputs": [
        {
          "output_type": "execute_result",
          "data": {
            "text/html": [
              "<div>\n",
              "<style scoped>\n",
              "    .dataframe tbody tr th:only-of-type {\n",
              "        vertical-align: middle;\n",
              "    }\n",
              "\n",
              "    .dataframe tbody tr th {\n",
              "        vertical-align: top;\n",
              "    }\n",
              "\n",
              "    .dataframe thead th {\n",
              "        text-align: right;\n",
              "    }\n",
              "</style>\n",
              "<table border=\"1\" class=\"dataframe\">\n",
              "  <thead>\n",
              "    <tr style=\"text-align: right;\">\n",
              "      <th></th>\n",
              "      <th>Unnamed: 0</th>\n",
              "      <th>Unnamed: 0.1</th>\n",
              "      <th>active_lock_reason</th>\n",
              "      <th>assignee</th>\n",
              "      <th>author_association</th>\n",
              "      <th>body</th>\n",
              "      <th>closed_at</th>\n",
              "      <th>comments</th>\n",
              "      <th>comments_url</th>\n",
              "      <th>created_at</th>\n",
              "      <th>draft</th>\n",
              "      <th>events_url</th>\n",
              "      <th>html_url</th>\n",
              "      <th>id</th>\n",
              "      <th>labels_url</th>\n",
              "      <th>locked</th>\n",
              "      <th>milestone</th>\n",
              "      <th>node_id</th>\n",
              "      <th>number</th>\n",
              "      <th>performed_via_github_app</th>\n",
              "      <th>reaction +1</th>\n",
              "      <th>reaction -1</th>\n",
              "      <th>reaction confused</th>\n",
              "      <th>reaction eyes</th>\n",
              "      <th>reaction heart</th>\n",
              "      <th>reaction hooray</th>\n",
              "      <th>reaction laugh</th>\n",
              "      <th>reaction rocket</th>\n",
              "      <th>reaction total_count</th>\n",
              "      <th>reaction url</th>\n",
              "      <th>repository_url</th>\n",
              "      <th>state</th>\n",
              "      <th>timeline_url</th>\n",
              "      <th>title</th>\n",
              "      <th>updated_at</th>\n",
              "      <th>url</th>\n",
              "      <th>clean_title</th>\n",
              "      <th>code_title</th>\n",
              "    </tr>\n",
              "  </thead>\n",
              "  <tbody>\n",
              "    <tr>\n",
              "      <th>0</th>\n",
              "      <td>0</td>\n",
              "      <td>0</td>\n",
              "      <td>NaN</td>\n",
              "      <td>NaN</td>\n",
              "      <td>NONE</td>\n",
              "      <td>&lt;!--\\r\\nThanks for raising a Spring Boot issue...</td>\n",
              "      <td>NaN</td>\n",
              "      <td>0</td>\n",
              "      <td>https://api.github.com/repos/spring-projects/s...</td>\n",
              "      <td>2021-12-08T04:22:27Z</td>\n",
              "      <td>NaN</td>\n",
              "      <td>https://api.github.com/repos/spring-projects/s...</td>\n",
              "      <td>https://github.com/spring-projects/spring-boot...</td>\n",
              "      <td>1073997023</td>\n",
              "      <td>https://api.github.com/repos/spring-projects/s...</td>\n",
              "      <td>False</td>\n",
              "      <td>NaN</td>\n",
              "      <td>I_kwDOAGAU1s5AA-Tf</td>\n",
              "      <td>28926</td>\n",
              "      <td>NaN</td>\n",
              "      <td>0</td>\n",
              "      <td>0</td>\n",
              "      <td>0</td>\n",
              "      <td>0</td>\n",
              "      <td>0</td>\n",
              "      <td>0</td>\n",
              "      <td>0</td>\n",
              "      <td>0</td>\n",
              "      <td>0</td>\n",
              "      <td>https://api.github.com/repos/spring-projects/s...</td>\n",
              "      <td>https://api.github.com/repos/spring-projects/s...</td>\n",
              "      <td>open</td>\n",
              "      <td>https://api.github.com/repos/spring-projects/s...</td>\n",
              "      <td>Springboot does not handle webapplicationtype ...</td>\n",
              "      <td>2021-12-08T04:26:56Z</td>\n",
              "      <td>https://api.github.com/repos/spring-projects/s...</td>\n",
              "      <td>Springboot does not handle webapplicationtype ...</td>\n",
              "      <td>without code</td>\n",
              "    </tr>\n",
              "    <tr>\n",
              "      <th>1</th>\n",
              "      <td>1</td>\n",
              "      <td>1</td>\n",
              "      <td>NaN</td>\n",
              "      <td>NaN</td>\n",
              "      <td>NONE</td>\n",
              "      <td>https://github.com/spring-projects/spring-boot...</td>\n",
              "      <td>NaN</td>\n",
              "      <td>0</td>\n",
              "      <td>https://api.github.com/repos/spring-projects/s...</td>\n",
              "      <td>2021-12-08T03:14:11Z</td>\n",
              "      <td>False</td>\n",
              "      <td>https://api.github.com/repos/spring-projects/s...</td>\n",
              "      <td>https://github.com/spring-projects/spring-boot...</td>\n",
              "      <td>1073964145</td>\n",
              "      <td>https://api.github.com/repos/spring-projects/s...</td>\n",
              "      <td>False</td>\n",
              "      <td>NaN</td>\n",
              "      <td>PR_kwDOAGAU1s4viBbh</td>\n",
              "      <td>28925</td>\n",
              "      <td>NaN</td>\n",
              "      <td>0</td>\n",
              "      <td>0</td>\n",
              "      <td>0</td>\n",
              "      <td>0</td>\n",
              "      <td>0</td>\n",
              "      <td>0</td>\n",
              "      <td>0</td>\n",
              "      <td>0</td>\n",
              "      <td>0</td>\n",
              "      <td>https://api.github.com/repos/spring-projects/s...</td>\n",
              "      <td>https://api.github.com/repos/spring-projects/s...</td>\n",
              "      <td>open</td>\n",
              "      <td>https://api.github.com/repos/spring-projects/s...</td>\n",
              "      <td>Replace if condition in catch block with catch...</td>\n",
              "      <td>2021-12-08T03:16:56Z</td>\n",
              "      <td>https://api.github.com/repos/spring-projects/s...</td>\n",
              "      <td>Replace if condition in catch block with catch...</td>\n",
              "      <td>without code</td>\n",
              "    </tr>\n",
              "  </tbody>\n",
              "</table>\n",
              "</div>"
            ],
            "text/plain": [
              "   Unnamed: 0  ...    code_title\n",
              "0           0  ...  without code\n",
              "1           1  ...  without code\n",
              "\n",
              "[2 rows x 38 columns]"
            ]
          },
          "metadata": {},
          "execution_count": 6
        }
      ]
    },
    {
      "cell_type": "code",
      "metadata": {
        "colab": {
          "base_uri": "https://localhost:8080/"
        },
        "id": "OtbnY6vt7Zr9",
        "outputId": "c866044e-6665-40da-9e34-89a200f68d89"
      },
      "source": [
        "import nltk\n",
        "nltk.download('stopwords') \n",
        "nltk.download('wordnet')\n",
        "\n",
        "lemm = WordNetLemmatizer()\n",
        "def news_to_words(raw_news):\n",
        "    if type(raw_news)==str:\n",
        "        lower_case = raw_news.lower()\n",
        "        letters_only = re.findall(r\"[a-z]+\", lower_case)\n",
        "        stops = set(stopwords.words(\"english\"))\n",
        "        meaningful_words = [w for w in letters_only if not w in stops]\n",
        "        lemmatized = [lemm.lemmatize(word) for word in meaningful_words]\n",
        "        return (\" \".join(lemmatized))\n",
        "    else:\n",
        "        return np.nan"
      ],
      "execution_count": null,
      "outputs": [
        {
          "output_type": "stream",
          "name": "stdout",
          "text": [
            "[nltk_data] Downloading package stopwords to /root/nltk_data...\n",
            "[nltk_data]   Unzipping corpora/stopwords.zip.\n",
            "[nltk_data] Downloading package wordnet to /root/nltk_data...\n",
            "[nltk_data]   Unzipping corpora/wordnet.zip.\n"
          ]
        }
      ]
    },
    {
      "cell_type": "code",
      "metadata": {
        "colab": {
          "base_uri": "https://localhost:8080/"
        },
        "id": "HN39I66d7ZuC",
        "outputId": "c9b43a8a-8922-46ef-ef91-7feeedf09977"
      },
      "source": [
        "real_news[\"clean\"] = real_news[\"clean_title\"].apply(news_to_words)\n",
        "print(real_news.shape)\n",
        "real_news.dropna(inplace=True)\n",
        "print(real_news.shape)"
      ],
      "execution_count": null,
      "outputs": [
        {
          "output_type": "stream",
          "name": "stdout",
          "text": [
            "(34237, 39)\n",
            "(0, 39)\n"
          ]
        }
      ]
    },
    {
      "cell_type": "code",
      "metadata": {
        "colab": {
          "base_uri": "https://localhost:8080/",
          "height": 204
        },
        "id": "PuWigipD7ZwY",
        "outputId": "9692353c-9449-4063-b2cf-ed1d48f13804"
      },
      "source": [
        "# import pandas as pd\n",
        "real_news = pd.read_csv(\"X_and_y\")\n",
        "real_news.head()"
      ],
      "execution_count": null,
      "outputs": [
        {
          "output_type": "execute_result",
          "data": {
            "text/html": [
              "<div>\n",
              "<style scoped>\n",
              "    .dataframe tbody tr th:only-of-type {\n",
              "        vertical-align: middle;\n",
              "    }\n",
              "\n",
              "    .dataframe tbody tr th {\n",
              "        vertical-align: top;\n",
              "    }\n",
              "\n",
              "    .dataframe thead th {\n",
              "        text-align: right;\n",
              "    }\n",
              "</style>\n",
              "<table border=\"1\" class=\"dataframe\">\n",
              "  <thead>\n",
              "    <tr style=\"text-align: right;\">\n",
              "      <th></th>\n",
              "      <th>Unnamed: 0</th>\n",
              "      <th>title</th>\n",
              "      <th>labels</th>\n",
              "    </tr>\n",
              "  </thead>\n",
              "  <tbody>\n",
              "    <tr>\n",
              "      <th>0</th>\n",
              "      <td>0</td>\n",
              "      <td>springboot does not handle webapplicationtype ...</td>\n",
              "      <td>1</td>\n",
              "    </tr>\n",
              "    <tr>\n",
              "      <th>1</th>\n",
              "      <td>1</td>\n",
              "      <td>replace if condition in catch block with catch...</td>\n",
              "      <td>3</td>\n",
              "    </tr>\n",
              "    <tr>\n",
              "      <th>2</th>\n",
              "      <td>2</td>\n",
              "      <td>refactor condition in catch</td>\n",
              "      <td>4</td>\n",
              "    </tr>\n",
              "    <tr>\n",
              "      <th>3</th>\n",
              "      <td>3</td>\n",
              "      <td>add</td>\n",
              "      <td>1</td>\n",
              "    </tr>\n",
              "    <tr>\n",
              "      <th>4</th>\n",
              "      <td>4</td>\n",
              "      <td>include beans in</td>\n",
              "      <td>4</td>\n",
              "    </tr>\n",
              "  </tbody>\n",
              "</table>\n",
              "</div>"
            ],
            "text/plain": [
              "   Unnamed: 0                                              title  labels\n",
              "0           0  springboot does not handle webapplicationtype ...       1\n",
              "1           1  replace if condition in catch block with catch...       3\n",
              "2           2                        refactor condition in catch       4\n",
              "3           3                                                add       1\n",
              "4           4                                   include beans in       4"
            ]
          },
          "metadata": {},
          "execution_count": 9
        }
      ]
    },
    {
      "cell_type": "code",
      "source": [
        "X = real_news[[\"title\"]]\n",
        "y = real_news[[\"labels\"]]\n",
        "X.head(2)"
      ],
      "metadata": {
        "colab": {
          "base_uri": "https://localhost:8080/",
          "height": 111
        },
        "id": "De82tMSJq4n-",
        "outputId": "4ee9c243-7b00-455f-f060-616e846ad5a2"
      },
      "execution_count": null,
      "outputs": [
        {
          "output_type": "execute_result",
          "data": {
            "text/html": [
              "<div>\n",
              "<style scoped>\n",
              "    .dataframe tbody tr th:only-of-type {\n",
              "        vertical-align: middle;\n",
              "    }\n",
              "\n",
              "    .dataframe tbody tr th {\n",
              "        vertical-align: top;\n",
              "    }\n",
              "\n",
              "    .dataframe thead th {\n",
              "        text-align: right;\n",
              "    }\n",
              "</style>\n",
              "<table border=\"1\" class=\"dataframe\">\n",
              "  <thead>\n",
              "    <tr style=\"text-align: right;\">\n",
              "      <th></th>\n",
              "      <th>title</th>\n",
              "    </tr>\n",
              "  </thead>\n",
              "  <tbody>\n",
              "    <tr>\n",
              "      <th>0</th>\n",
              "      <td>springboot does not handle webapplicationtype ...</td>\n",
              "    </tr>\n",
              "    <tr>\n",
              "      <th>1</th>\n",
              "      <td>replace if condition in catch block with catch...</td>\n",
              "    </tr>\n",
              "  </tbody>\n",
              "</table>\n",
              "</div>"
            ],
            "text/plain": [
              "                                               title\n",
              "0  springboot does not handle webapplicationtype ...\n",
              "1  replace if condition in catch block with catch..."
            ]
          },
          "metadata": {},
          "execution_count": 10
        }
      ]
    },
    {
      "cell_type": "code",
      "source": [
        "set(y[\"labels\"])"
      ],
      "metadata": {
        "colab": {
          "base_uri": "https://localhost:8080/"
        },
        "id": "xFy_qc8BLvbF",
        "outputId": "47f68ebb-c691-4f4a-fe88-ee15588532fd"
      },
      "execution_count": null,
      "outputs": [
        {
          "output_type": "execute_result",
          "data": {
            "text/plain": [
              "{0, 1, 2, 3, 4, 5}"
            ]
          },
          "metadata": {},
          "execution_count": 11
        }
      ]
    },
    {
      "cell_type": "code",
      "metadata": {
        "colab": {
          "base_uri": "https://localhost:8080/"
        },
        "id": "sXhk3waH5PLM",
        "outputId": "d7cf9d9f-c133-4d8b-e47e-c4ee55d77dc0"
      },
      "source": [
        "import math\n",
        "print(math.floor(67*0.7), math.ceil(67*0.7))\n",
        "li = list(range(10))\n",
        "print(li[:6], li[6:])\n",
        "# left inclusive, right exclusive"
      ],
      "execution_count": null,
      "outputs": [
        {
          "output_type": "stream",
          "name": "stdout",
          "text": [
            "46 47\n",
            "[0, 1, 2, 3, 4, 5] [6, 7, 8, 9]\n"
          ]
        }
      ]
    },
    {
      "cell_type": "code",
      "metadata": {
        "colab": {
          "base_uri": "https://localhost:8080/"
        },
        "id": "5LWM5LiW7Zys",
        "outputId": "4536ba3e-7e1f-417c-ff80-7b8dda2b7d1a"
      },
      "source": [
        "# X_train, X_test, y_train, y_test = train_test_split(X, y, test_size=0.33, random_state=53)\n",
        "split_index = math.floor(X.shape[0]*0.7)\n",
        "X_train = X[:split_index]\n",
        "X_test = X[split_index:]\n",
        "X_train.shape, X_test.shape"
      ],
      "execution_count": null,
      "outputs": [
        {
          "output_type": "execute_result",
          "data": {
            "text/plain": [
              "((22069, 1), (9459, 1))"
            ]
          },
          "metadata": {},
          "execution_count": 13
        }
      ]
    },
    {
      "cell_type": "markdown",
      "source": [
        "## Dimension"
      ],
      "metadata": {
        "id": "SLgq9eiQzwt2"
      }
    },
    {
      "cell_type": "code",
      "metadata": {
        "id": "kGs_9v4q7Z05"
      },
      "source": [
        "from sklearn.feature_extraction.text import CountVectorizer\n",
        "\n",
        "count_vectorizer = CountVectorizer(max_features=5000, max_df=0.7)\n",
        "count_train = count_vectorizer.fit_transform(X_train[\"title\"])\n",
        "count_test = count_vectorizer.transform(X_test[\"title\"])"
      ],
      "execution_count": null,
      "outputs": []
    },
    {
      "cell_type": "code",
      "metadata": {
        "colab": {
          "base_uri": "https://localhost:8080/"
        },
        "id": "-jQ8-2rN7Z3Q",
        "outputId": "069459ae-81ef-43dd-d5c3-0a6a947dad1b"
      },
      "source": [
        "count_train"
      ],
      "execution_count": null,
      "outputs": [
        {
          "output_type": "execute_result",
          "data": {
            "text/plain": [
              "<22069x5000 sparse matrix of type '<class 'numpy.int64'>'\n",
              "\twith 125107 stored elements in Compressed Sparse Row format>"
            ]
          },
          "metadata": {},
          "execution_count": 15
        }
      ]
    },
    {
      "cell_type": "code",
      "metadata": {
        "colab": {
          "base_uri": "https://localhost:8080/"
        },
        "id": "z6r1hGbp7Z5q",
        "outputId": "cb963cb3-f4b8-4ac6-f78e-88284bc42be6"
      },
      "source": [
        "count_test"
      ],
      "execution_count": null,
      "outputs": [
        {
          "output_type": "execute_result",
          "data": {
            "text/plain": [
              "<9459x5000 sparse matrix of type '<class 'numpy.int64'>'\n",
              "\twith 48083 stored elements in Compressed Sparse Row format>"
            ]
          },
          "metadata": {},
          "execution_count": 16
        }
      ]
    },
    {
      "cell_type": "code",
      "metadata": {
        "id": "5x_Yoznp7Z8L"
      },
      "source": [
        "from sklearn.decomposition import LatentDirichletAllocation\n",
        "\n",
        "lda_model = LatentDirichletAllocation(n_components=10, max_iter=10, learning_method=\"online\", \n",
        "                                      random_state=100, batch_size=100, evaluate_every=-1,\n",
        "                                      n_jobs=-1)"
      ],
      "execution_count": null,
      "outputs": []
    },
    {
      "cell_type": "code",
      "metadata": {
        "id": "7FtX7tpr7Z-R"
      },
      "source": [
        "lda_output = lda_model.fit_transform(count_train)"
      ],
      "execution_count": null,
      "outputs": []
    },
    {
      "cell_type": "code",
      "metadata": {
        "colab": {
          "base_uri": "https://localhost:8080/"
        },
        "id": "uOvp-0bw7aAp",
        "outputId": "dc9deb67-942f-41be-cddc-6c6c7b04aa5e"
      },
      "source": [
        "print(lda_model)"
      ],
      "execution_count": null,
      "outputs": [
        {
          "output_type": "stream",
          "name": "stdout",
          "text": [
            "LatentDirichletAllocation(batch_size=100, learning_method='online', n_jobs=-1,\n",
            "                          random_state=100)\n"
          ]
        }
      ]
    },
    {
      "cell_type": "code",
      "metadata": {
        "colab": {
          "base_uri": "https://localhost:8080/"
        },
        "id": "jsy9IZ7M7aDF",
        "outputId": "75f76e6b-5956-4004-c606-89b03afc549e"
      },
      "source": [
        "from sklearn.model_selection import GridSearchCV\n",
        "\n",
        "search_params = {\"n_components\": [6, 7, 8], \n",
        "                 \"learning_decay\": [.5, .7, .9],\n",
        "                 \"learning_method\": [\"online\"]}\n",
        "\n",
        "lda = LatentDirichletAllocation()\n",
        "model = GridSearchCV(lda, param_grid=search_params)\n",
        "model.fit(count_train)"
      ],
      "execution_count": null,
      "outputs": [
        {
          "output_type": "execute_result",
          "data": {
            "text/plain": [
              "GridSearchCV(estimator=LatentDirichletAllocation(),\n",
              "             param_grid={'learning_decay': [0.5, 0.7, 0.9],\n",
              "                         'learning_method': ['online'],\n",
              "                         'n_components': [6, 7, 8]})"
            ]
          },
          "metadata": {},
          "execution_count": 20
        }
      ]
    },
    {
      "cell_type": "code",
      "metadata": {
        "colab": {
          "base_uri": "https://localhost:8080/"
        },
        "id": "dgIs0feJ7aFk",
        "outputId": "ed381031-24f0-4e17-e72a-64a93237bd9e"
      },
      "source": [
        "best_lda_model = model.best_estimator_\n",
        "print(\"The best model is: {}\".format(model.best_params_))\n",
        "print(\"The best likelihood score: {}\".format(model.best_score_))\n",
        "print(\"Model perplexity: {}\".format(best_lda_model.perplexity(count_train)))"
      ],
      "execution_count": null,
      "outputs": [
        {
          "output_type": "stream",
          "name": "stdout",
          "text": [
            "The best model is: {'learning_decay': 0.7, 'learning_method': 'online', 'n_components': 6}\n",
            "The best likelihood score: -212837.06554615084\n",
            "Model perplexity: 1332.4656871936565\n"
          ]
        }
      ]
    },
    {
      "cell_type": "code",
      "metadata": {
        "id": "t0kQrznRJZ9v"
      },
      "source": [
        "n_topics = [6, 7, 8]\n",
        "# log_likelyhoods_5 = [round(gscore.mean_validation_score) for gscore in model.cv_results_ if gscore.parameters['learning_decay']==0.5]\n",
        "# log_likelyhoods_7 = [round(gscore.mean_validation_score) for gscore in model.cv_results_ if gscore.parameters['learning_decay']==0.7]\n",
        "# log_likelyhoods_9 = [round(gscore.mean_validation_score) for gscore in model.cv_results_ if gscore.parameters['learning_decay']==0.9]"
      ],
      "execution_count": null,
      "outputs": []
    },
    {
      "cell_type": "code",
      "metadata": {
        "colab": {
          "base_uri": "https://localhost:8080/"
        },
        "id": "ytyXW2lBORIH",
        "outputId": "5b7004ee-a362-44b9-a774-39982c745cc6"
      },
      "source": [
        "model.cv_results_[\"params\"]#[\"learning_decay\"]==0.5"
      ],
      "execution_count": null,
      "outputs": [
        {
          "output_type": "execute_result",
          "data": {
            "text/plain": [
              "[{'learning_decay': 0.5, 'learning_method': 'online', 'n_components': 6},\n",
              " {'learning_decay': 0.5, 'learning_method': 'online', 'n_components': 7},\n",
              " {'learning_decay': 0.5, 'learning_method': 'online', 'n_components': 8},\n",
              " {'learning_decay': 0.7, 'learning_method': 'online', 'n_components': 6},\n",
              " {'learning_decay': 0.7, 'learning_method': 'online', 'n_components': 7},\n",
              " {'learning_decay': 0.7, 'learning_method': 'online', 'n_components': 8},\n",
              " {'learning_decay': 0.9, 'learning_method': 'online', 'n_components': 6},\n",
              " {'learning_decay': 0.9, 'learning_method': 'online', 'n_components': 7},\n",
              " {'learning_decay': 0.9, 'learning_method': 'online', 'n_components': 8}]"
            ]
          },
          "metadata": {},
          "execution_count": 23
        }
      ]
    },
    {
      "cell_type": "code",
      "metadata": {
        "colab": {
          "base_uri": "https://localhost:8080/"
        },
        "id": "JBG6x93jQ36Y",
        "outputId": "ef8da552-1ac5-45d9-99d2-284582cd24a8"
      },
      "source": [
        "model.cv_results_[\"mean_test_score\"]"
      ],
      "execution_count": null,
      "outputs": [
        {
          "output_type": "execute_result",
          "data": {
            "text/plain": [
              "array([-213241.15200098, -215690.13580232, -217747.87193131,\n",
              "       -212837.06554615, -215048.39576177, -217239.12711704,\n",
              "       -213316.82479262, -215973.43505311, -218061.49843042])"
            ]
          },
          "metadata": {},
          "execution_count": 24
        }
      ]
    },
    {
      "cell_type": "code",
      "metadata": {
        "id": "9xcSNZtkQ9jY"
      },
      "source": [
        "parameters = model.cv_results_[\"params\"]\n",
        "scores = model.cv_results_[\"mean_test_score\"]\n",
        "\n",
        "log_likelyhoods_5 = [round(score) for parameter, score in zip(parameters, scores) if parameter[\"learning_decay\"]==0.5]\n",
        "log_likelyhoods_7 = [round(score) for parameter, score in zip(parameters, scores) if parameter[\"learning_decay\"]==0.7]\n",
        "log_likelyhoods_9 = [round(score) for parameter, score in zip(parameters, scores) if parameter[\"learning_decay\"]==0.9]\n",
        "# list(zip(parameters, scores)"
      ],
      "execution_count": null,
      "outputs": []
    },
    {
      "cell_type": "code",
      "metadata": {
        "id": "HIDNmvCGJaAq"
      },
      "source": [
        "# model.cv_results_\n",
        "# log_likelyhoods_5"
      ],
      "execution_count": null,
      "outputs": []
    },
    {
      "cell_type": "code",
      "metadata": {
        "colab": {
          "base_uri": "https://localhost:8080/",
          "height": 513
        },
        "id": "LqLGmQgjJaC2",
        "outputId": "3e4fd3c8-5c31-435b-b534-8e09280df817"
      },
      "source": [
        "# Show graph\n",
        "plt.figure(figsize=(12, 8))\n",
        "plt.plot(n_topics, log_likelyhoods_5, label='0.5')\n",
        "plt.plot(n_topics, log_likelyhoods_7, label='0.7')\n",
        "plt.plot(n_topics, log_likelyhoods_9, label='0.9')\n",
        "plt.title(\"Choosing Optimal LDA Model\")\n",
        "plt.xlabel(\"Num Topics\")\n",
        "plt.ylabel(\"Log Likelyhood Scores\")\n",
        "plt.legend(title='Learning decay', loc='best')\n",
        "plt.show()"
      ],
      "execution_count": null,
      "outputs": [
        {
          "output_type": "display_data",
          "data": {
            "image/png": "[encoded data removed]",
            "text/plain": [
              "<Figure size 864x576 with 1 Axes>"
            ]
          },
          "metadata": {
            "needs_background": "light"
          }
        }
      ]
    },
    {
      "cell_type": "code",
      "metadata": {
        "id": "MizuK5S4JaFb"
      },
      "source": [
        "def print_top_words(model, feature_names, n_top_words):\n",
        "    for index, topic in enumerate(model.components_):\n",
        "        message = \"\\n Topic #{}: \".format(index)\n",
        "        message += \" \".join([feature_names[i] for i in topic.argsort()[:-n_top_words-1:-1]])\n",
        "        print(message)\n",
        "        print(\"=\"*70)"
      ],
      "execution_count": null,
      "outputs": []
    },
    {
      "cell_type": "code",
      "metadata": {
        "colab": {
          "base_uri": "https://localhost:8080/"
        },
        "id": "vpTjHDhQJaHt",
        "outputId": "7f60cf33-38df-488b-cafa-346c0a2e0d11"
      },
      "source": [
        "n_top_words = 40\n",
        "print(\"\\n Topics in the LDA model: \")\n",
        "tf_feature_names = count_vectorizer.get_feature_names()\n",
        "print_top_words(best_lda_model, tf_feature_names, n_top_words)"
      ],
      "execution_count": null,
      "outputs": [
        {
          "output_type": "stream",
          "name": "stdout",
          "text": [
            "\n",
            " Topics in the LDA model: \n",
            "\n",
            " Topic #0: to in with how the of when error and using type allow cannot be spring use change by from as at default server configuration tests more while annotation filter unable security types value null wrong user some for database mode\n",
            "======================================================================\n",
            "\n",
            " Topic #1: for to update and in data query work chart field line pattern exception values object into from being list between way bar text android cloud other control command stream requests getting release event provide find columns correctly dubbo timeout like\n",
            "======================================================================\n",
            "\n",
            " Topic #2: not the is on in when should with of does method and are be class if create an that remove or name version improve get documentation custom working has using have no used same fields show implement for message path\n",
            "======================================================================\n",
            "\n",
            " Topic #3: for add support to and in new the table of all only feature by data adding methods check file one do key date cluster during or possible consider type failed annotations out module task memory single binding need execution service\n",
            "======================================================================\n",
            "\n",
            " Topic #4: to in of for from fix issue use the set as test after java with make it fails option time added bump connection an instead ability bug upgrade classes files empty any incorrect color tracking about always build custom display\n",
            "======================================================================\n",
            "\n",
            " Topic #5: can on multiple with request is index to code when missing if without but via authentication than size performance array failing fail before issues parameters example cassandra node errors token client changes response thread label metrics nodes up handling be\n",
            "======================================================================\n"
          ]
        },
        {
          "output_type": "stream",
          "name": "stderr",
          "text": [
            "/usr/local/lib/python3.7/dist-packages/sklearn/utils/deprecation.py:87: FutureWarning: Function get_feature_names is deprecated; get_feature_names is deprecated in 1.0 and will be removed in 1.2. Please use get_feature_names_out instead.\n",
            "  warnings.warn(msg, category=FutureWarning)\n"
          ]
        }
      ]
    },
    {
      "cell_type": "code",
      "metadata": {
        "id": "A059zcU5camL"
      },
      "source": [
        "def show_topics(vectorizer=count_vectorizer, lda_model=lda_model, n_words=20):\n",
        "    keywords = np.array(vectorizer.get_feature_names())\n",
        "    topic_keywords = list()\n",
        "    for topic_weights in lda_model.components_:\n",
        "        top_keyword_locs = (-topic_weights).argsort()[:n_words]\n",
        "        topic_keywords.append(keywords.take(top_keyword_locs))\n",
        "    return topic_keywords"
      ],
      "execution_count": null,
      "outputs": []
    },
    {
      "cell_type": "code",
      "metadata": {
        "colab": {
          "base_uri": "https://localhost:8080/",
          "height": 408
        },
        "id": "aeIDEPsGczWQ",
        "outputId": "60be3fa3-38ca-4bd1-f5c4-8db4ad3e3335"
      },
      "source": [
        "topic_keywords = show_topics(vectorizer=count_vectorizer, lda_model=best_lda_model, n_words=15)\n",
        "\n",
        "df_topic_keywords = pd.DataFrame(topic_keywords)\n",
        "df_topic_keywords.columns = [\"Word \" + str(i) for i in range(df_topic_keywords.shape[1])]\n",
        "df_topic_keywords.index = [\"Topic \" + str(i) for i in range(df_topic_keywords.shape[0])]\n",
        "df_topic_keywords"
      ],
      "execution_count": null,
      "outputs": [
        {
          "output_type": "stream",
          "name": "stderr",
          "text": [
            "/usr/local/lib/python3.7/dist-packages/sklearn/utils/deprecation.py:87: FutureWarning: Function get_feature_names is deprecated; get_feature_names is deprecated in 1.0 and will be removed in 1.2. Please use get_feature_names_out instead.\n",
            "  warnings.warn(msg, category=FutureWarning)\n"
          ]
        },
        {
          "output_type": "execute_result",
          "data": {
            "text/html": [
              "<div>\n",
              "<style scoped>\n",
              "    .dataframe tbody tr th:only-of-type {\n",
              "        vertical-align: middle;\n",
              "    }\n",
              "\n",
              "    .dataframe tbody tr th {\n",
              "        vertical-align: top;\n",
              "    }\n",
              "\n",
              "    .dataframe thead th {\n",
              "        text-align: right;\n",
              "    }\n",
              "</style>\n",
              "<table border=\"1\" class=\"dataframe\">\n",
              "  <thead>\n",
              "    <tr style=\"text-align: right;\">\n",
              "      <th></th>\n",
              "      <th>Word 0</th>\n",
              "      <th>Word 1</th>\n",
              "      <th>Word 2</th>\n",
              "      <th>Word 3</th>\n",
              "      <th>Word 4</th>\n",
              "      <th>Word 5</th>\n",
              "      <th>Word 6</th>\n",
              "      <th>Word 7</th>\n",
              "      <th>Word 8</th>\n",
              "      <th>Word 9</th>\n",
              "      <th>Word 10</th>\n",
              "      <th>Word 11</th>\n",
              "      <th>Word 12</th>\n",
              "      <th>Word 13</th>\n",
              "      <th>Word 14</th>\n",
              "    </tr>\n",
              "  </thead>\n",
              "  <tbody>\n",
              "    <tr>\n",
              "      <th>Topic 0</th>\n",
              "      <td>to</td>\n",
              "      <td>in</td>\n",
              "      <td>with</td>\n",
              "      <td>how</td>\n",
              "      <td>the</td>\n",
              "      <td>of</td>\n",
              "      <td>when</td>\n",
              "      <td>error</td>\n",
              "      <td>and</td>\n",
              "      <td>using</td>\n",
              "      <td>type</td>\n",
              "      <td>allow</td>\n",
              "      <td>cannot</td>\n",
              "      <td>be</td>\n",
              "      <td>spring</td>\n",
              "    </tr>\n",
              "    <tr>\n",
              "      <th>Topic 1</th>\n",
              "      <td>for</td>\n",
              "      <td>to</td>\n",
              "      <td>update</td>\n",
              "      <td>and</td>\n",
              "      <td>in</td>\n",
              "      <td>data</td>\n",
              "      <td>query</td>\n",
              "      <td>work</td>\n",
              "      <td>chart</td>\n",
              "      <td>field</td>\n",
              "      <td>line</td>\n",
              "      <td>pattern</td>\n",
              "      <td>exception</td>\n",
              "      <td>values</td>\n",
              "      <td>object</td>\n",
              "    </tr>\n",
              "    <tr>\n",
              "      <th>Topic 2</th>\n",
              "      <td>not</td>\n",
              "      <td>the</td>\n",
              "      <td>is</td>\n",
              "      <td>on</td>\n",
              "      <td>in</td>\n",
              "      <td>when</td>\n",
              "      <td>should</td>\n",
              "      <td>with</td>\n",
              "      <td>of</td>\n",
              "      <td>does</td>\n",
              "      <td>method</td>\n",
              "      <td>and</td>\n",
              "      <td>are</td>\n",
              "      <td>be</td>\n",
              "      <td>class</td>\n",
              "    </tr>\n",
              "    <tr>\n",
              "      <th>Topic 3</th>\n",
              "      <td>for</td>\n",
              "      <td>add</td>\n",
              "      <td>support</td>\n",
              "      <td>to</td>\n",
              "      <td>and</td>\n",
              "      <td>in</td>\n",
              "      <td>new</td>\n",
              "      <td>the</td>\n",
              "      <td>table</td>\n",
              "      <td>of</td>\n",
              "      <td>all</td>\n",
              "      <td>only</td>\n",
              "      <td>feature</td>\n",
              "      <td>by</td>\n",
              "      <td>data</td>\n",
              "    </tr>\n",
              "    <tr>\n",
              "      <th>Topic 4</th>\n",
              "      <td>to</td>\n",
              "      <td>in</td>\n",
              "      <td>of</td>\n",
              "      <td>for</td>\n",
              "      <td>from</td>\n",
              "      <td>fix</td>\n",
              "      <td>issue</td>\n",
              "      <td>use</td>\n",
              "      <td>the</td>\n",
              "      <td>set</td>\n",
              "      <td>as</td>\n",
              "      <td>test</td>\n",
              "      <td>after</td>\n",
              "      <td>java</td>\n",
              "      <td>with</td>\n",
              "    </tr>\n",
              "    <tr>\n",
              "      <th>Topic 5</th>\n",
              "      <td>can</td>\n",
              "      <td>on</td>\n",
              "      <td>multiple</td>\n",
              "      <td>with</td>\n",
              "      <td>request</td>\n",
              "      <td>is</td>\n",
              "      <td>index</td>\n",
              "      <td>to</td>\n",
              "      <td>code</td>\n",
              "      <td>when</td>\n",
              "      <td>missing</td>\n",
              "      <td>if</td>\n",
              "      <td>without</td>\n",
              "      <td>but</td>\n",
              "      <td>via</td>\n",
              "    </tr>\n",
              "  </tbody>\n",
              "</table>\n",
              "</div>"
            ],
            "text/plain": [
              "        Word 0 Word 1    Word 2 Word 3  ...  Word 11    Word 12 Word 13 Word 14\n",
              "Topic 0     to     in      with    how  ...    allow     cannot      be  spring\n",
              "Topic 1    for     to    update    and  ...  pattern  exception  values  object\n",
              "Topic 2    not    the        is     on  ...      and        are      be   class\n",
              "Topic 3    for    add   support     to  ...     only    feature      by    data\n",
              "Topic 4     to     in        of    for  ...     test      after    java    with\n",
              "Topic 5    can     on  multiple   with  ...       if    without     but     via\n",
              "\n",
              "[6 rows x 15 columns]"
            ]
          },
          "metadata": {},
          "execution_count": 31
        }
      ]
    },
    {
      "cell_type": "code",
      "metadata": {
        "colab": {
          "base_uri": "https://localhost:8080/"
        },
        "id": "ewcD9srnczYv",
        "outputId": "750db758-1f9d-4bea-897b-a59770367283"
      },
      "source": [
        "topic_probability_scores = best_lda_model.transform(count_test)\n",
        "print(topic_probability_scores)"
      ],
      "execution_count": null,
      "outputs": [
        {
          "output_type": "stream",
          "name": "stdout",
          "text": [
            "[[0.05555573 0.72176616 0.05555571 0.05555575 0.05601079 0.05555587]\n",
            " [0.26702672 0.01860862 0.01857458 0.43656276 0.01853837 0.24068895]\n",
            " [0.40875482 0.04206412 0.04168064 0.04175777 0.42403582 0.04170682]\n",
            " ...\n",
            " [0.04166718 0.04166749 0.29179654 0.29130456 0.29189657 0.04166766]\n",
            " [0.04193749 0.04166726 0.54089043 0.29185043 0.04171813 0.04193626]\n",
            " [0.04166668 0.29165019 0.04166668 0.54168306 0.04166669 0.0416667 ]]\n"
          ]
        }
      ]
    },
    {
      "cell_type": "code",
      "metadata": {
        "colab": {
          "base_uri": "https://localhost:8080/"
        },
        "id": "2eJGRn1gczbH",
        "outputId": "8afefd99-0d08-4df6-dba9-0fb223e11d9c"
      },
      "source": [
        "def get_topic_text(topic, i):\n",
        "    print(\"The news with item {} was labeled with the topic {} \\n\".format(i, topic))\n",
        "    print(X_test.values[i])\n",
        "    print(\"-\"*30)\n",
        "\n",
        "for i in range(10):\n",
        "    get_topic_text((np.argmax(topic_probability_scores[i])), i)"
      ],
      "execution_count": null,
      "outputs": [
        {
          "output_type": "stream",
          "name": "stdout",
          "text": [
            "The news with item 0 was labeled with the topic 1 \n",
            "\n",
            "['effective interleaved survey']\n",
            "------------------------------\n",
            "The news with item 1 was labeled with the topic 3 \n",
            "\n",
            "['tower only allows one takeoff and land per mission']\n",
            "------------------------------\n",
            "The news with item 2 was labeled with the topic 4 \n",
            "\n",
            "['convert survey to waypoints']\n",
            "------------------------------\n",
            "The news with item 3 was labeled with the topic 5 \n",
            "\n",
            "['feature request change telemetry']\n",
            "------------------------------\n",
            "The news with item 4 was labeled with the topic 0 \n",
            "\n",
            "['shapefile overlay']\n",
            "------------------------------\n",
            "The news with item 5 was labeled with the topic 4 \n",
            "\n",
            "['slider in survey menu']\n",
            "------------------------------\n",
            "The news with item 6 was labeled with the topic 2 \n",
            "\n",
            "['battery capacity estimate based on voltage']\n",
            "------------------------------\n",
            "The news with item 7 was labeled with the topic 4 \n",
            "\n",
            "['single axis accel calibration for plane']\n",
            "------------------------------\n",
            "The news with item 8 was labeled with the topic 2 \n",
            "\n",
            "['remove stabilize and from list of available flight modes']\n",
            "------------------------------\n",
            "The news with item 9 was labeled with the topic 5 \n",
            "\n",
            "['feature request google kml kmz overlay']\n",
            "------------------------------\n"
          ]
        }
      ]
    },
    {
      "cell_type": "code",
      "metadata": {
        "id": "fEVnzsuzczdO"
      },
      "source": [
        "labels = [np.argmax(topic_probability_scores[index]) for index in range(X_test.shape[0]) ]"
      ],
      "execution_count": null,
      "outputs": []
    },
    {
      "cell_type": "code",
      "metadata": {
        "id": "a_zQBItrczgR",
        "colab": {
          "base_uri": "https://localhost:8080/"
        },
        "outputId": "dd2fac46-9edf-4a8e-c6dd-45974e6cc08a"
      },
      "source": [
        "len(labels)"
      ],
      "execution_count": null,
      "outputs": [
        {
          "output_type": "execute_result",
          "data": {
            "text/plain": [
              "9459"
            ]
          },
          "metadata": {},
          "execution_count": 39
        }
      ]
    },
    {
      "cell_type": "code",
      "source": [
        "y.values"
      ],
      "metadata": {
        "colab": {
          "base_uri": "https://localhost:8080/"
        },
        "id": "9doxv_yBcgz9",
        "outputId": "29ecd5fb-23fc-43c9-e0e6-f4b7eebe5d25"
      },
      "execution_count": null,
      "outputs": [
        {
          "output_type": "execute_result",
          "data": {
            "text/plain": [
              "array([[1],\n",
              "       [3],\n",
              "       [4],\n",
              "       ...,\n",
              "       [1],\n",
              "       [1],\n",
              "       [1]])"
            ]
          },
          "metadata": {},
          "execution_count": 37
        }
      ]
    },
    {
      "cell_type": "code",
      "source": [
        "from sklearn.metrics import accuracy_score\n",
        "\n",
        "accuracy_score(y[split_index:].values, labels)"
      ],
      "metadata": {
        "colab": {
          "base_uri": "https://localhost:8080/"
        },
        "id": "mG7VXzHmYtwl",
        "outputId": "5024404d-c914-487d-cf53-1e2f06d446fb"
      },
      "execution_count": null,
      "outputs": [
        {
          "output_type": "execute_result",
          "data": {
            "text/plain": [
              "0.10730521196743842"
            ]
          },
          "metadata": {},
          "execution_count": 40
        }
      ]
    },
    {
      "cell_type": "code",
      "source": [
        "Too low!"
      ],
      "metadata": {
        "id": "L0f7PdWDZBPK"
      },
      "execution_count": null,
      "outputs": []
    }
  ]
}