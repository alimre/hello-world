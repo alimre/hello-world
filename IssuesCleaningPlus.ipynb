{
  "nbformat": 4,
  "nbformat_minor": 0,
  "metadata": {
    "colab": {
      "name": "IssuesCleaningPlus.ipynb",
      "provenance": [],
      "collapsed_sections": [],
      "toc_visible": true,
      "authorship_tag": "ABX9TyN65xOF4hIvf/VVd9ZfjsPr"
    },
    "kernelspec": {
      "name": "python3",
      "display_name": "Python 3"
    },
    "language_info": {
      "name": "python"
    },
    "accelerator": "GPU"
  },
  "cells": [
    {
      "cell_type": "markdown",
      "metadata": {
        "id": "B5Spr0Nyy-7l"
      },
      "source": [
        "# Issues Cleaning \n",
        "---\n"
      ]
    },
    {
      "cell_type": "markdown",
      "source": [
        "## Drive Mounting"
      ],
      "metadata": {
        "id": "i1AX3C7JM9Pj"
      }
    },
    {
      "cell_type": "code",
      "metadata": {
        "colab": {
          "base_uri": "https://localhost:8080/"
        },
        "id": "hTyrXvY4zr0h",
        "outputId": "8d735f9a-decb-48f4-fb82-1cbc4a093967"
      },
      "source": [
        "from google.colab import drive\n",
        "drive.mount('/content/gdrive')"
      ],
      "execution_count": null,
      "outputs": [
        {
          "output_type": "stream",
          "name": "stdout",
          "text": [
            "Mounted at /content/gdrive\n"
          ]
        }
      ]
    },
    {
      "cell_type": "code",
      "metadata": {
        "id": "qeuq0IN9zr5I"
      },
      "source": [
        "import os\n",
        "current_folder = \"/content/gdrive/My Drive/Workshop/TOM/\"\n",
        "os.chdir(current_folder)"
      ],
      "execution_count": null,
      "outputs": []
    },
    {
      "cell_type": "markdown",
      "source": [
        "## File Loading"
      ],
      "metadata": {
        "id": "BGuwCob_TQDH"
      }
    },
    {
      "cell_type": "code",
      "metadata": {
        "colab": {
          "base_uri": "https://localhost:8080/",
          "height": 281
        },
        "id": "3kTj8Fopzr2u",
        "outputId": "1f043938-29a9-4530-8b89-925d841a1813"
      },
      "source": [
        "import pandas as pd\n",
        "df = pd.read_csv(\"repos.csv\", encoding='latin1')\n",
        "df.sample(3)"
      ],
      "execution_count": null,
      "outputs": [
        {
          "output_type": "stream",
          "name": "stderr",
          "text": [
            "/usr/local/lib/python3.7/dist-packages/IPython/core/interactiveshell.py:2718: DtypeWarning: Columns (1) have mixed types.Specify dtype option on import or set low_memory=False.\n",
            "  interactivity=interactivity, compiler=compiler, result=result)\n"
          ]
        },
        {
          "output_type": "execute_result",
          "data": {
            "text/html": [
              "<div>\n",
              "<style scoped>\n",
              "    .dataframe tbody tr th:only-of-type {\n",
              "        vertical-align: middle;\n",
              "    }\n",
              "\n",
              "    .dataframe tbody tr th {\n",
              "        vertical-align: top;\n",
              "    }\n",
              "\n",
              "    .dataframe thead th {\n",
              "        text-align: right;\n",
              "    }\n",
              "</style>\n",
              "<table border=\"1\" class=\"dataframe\">\n",
              "  <thead>\n",
              "    <tr style=\"text-align: right;\">\n",
              "      <th></th>\n",
              "      <th>Unnamed: 0</th>\n",
              "      <th>active_lock_reason</th>\n",
              "      <th>assignee</th>\n",
              "      <th>author_association</th>\n",
              "      <th>body</th>\n",
              "      <th>closed_at</th>\n",
              "      <th>comments</th>\n",
              "      <th>comments_url</th>\n",
              "      <th>created_at</th>\n",
              "      <th>draft</th>\n",
              "      <th>events_url</th>\n",
              "      <th>html_url</th>\n",
              "      <th>id</th>\n",
              "      <th>labels_url</th>\n",
              "      <th>locked</th>\n",
              "      <th>milestone</th>\n",
              "      <th>node_id</th>\n",
              "      <th>number</th>\n",
              "      <th>performed_via_github_app</th>\n",
              "      <th>reaction +1</th>\n",
              "      <th>reaction -1</th>\n",
              "      <th>reaction confused</th>\n",
              "      <th>reaction eyes</th>\n",
              "      <th>reaction heart</th>\n",
              "      <th>reaction hooray</th>\n",
              "      <th>reaction laugh</th>\n",
              "      <th>reaction rocket</th>\n",
              "      <th>reaction total_count</th>\n",
              "      <th>reaction url</th>\n",
              "      <th>repository_url</th>\n",
              "      <th>state</th>\n",
              "      <th>timeline_url</th>\n",
              "      <th>title</th>\n",
              "      <th>updated_at</th>\n",
              "      <th>url</th>\n",
              "    </tr>\n",
              "  </thead>\n",
              "  <tbody>\n",
              "    <tr>\n",
              "      <th>4509</th>\n",
              "      <td>4509</td>\n",
              "      <td>NaN</td>\n",
              "      <td>NaN</td>\n",
              "      <td>MEMBER</td>\n",
              "      <td>It looks like there are still rare conditions ...</td>\n",
              "      <td>NaN</td>\n",
              "      <td>1</td>\n",
              "      <td>https://api.github.com/repos/elastic/elasticse...</td>\n",
              "      <td>2016-11-11T21:22:44Z</td>\n",
              "      <td>NaN</td>\n",
              "      <td>https://api.github.com/repos/elastic/elasticse...</td>\n",
              "      <td>https://github.com/elastic/elasticsearch/issue...</td>\n",
              "      <td>188853909</td>\n",
              "      <td>https://api.github.com/repos/elastic/elasticse...</td>\n",
              "      <td>False</td>\n",
              "      <td>NaN</td>\n",
              "      <td>MDU6SXNzdWUxODg4NTM5MDk=</td>\n",
              "      <td>21511</td>\n",
              "      <td>NaN</td>\n",
              "      <td>0</td>\n",
              "      <td>0</td>\n",
              "      <td>0</td>\n",
              "      <td>0</td>\n",
              "      <td>0</td>\n",
              "      <td>0</td>\n",
              "      <td>0</td>\n",
              "      <td>0</td>\n",
              "      <td>0</td>\n",
              "      <td>https://api.github.com/repos/elastic/elasticse...</td>\n",
              "      <td>https://api.github.com/repos/elastic/elasticse...</td>\n",
              "      <td>open</td>\n",
              "      <td>https://api.github.com/repos/elastic/elasticse...</td>\n",
              "      <td>Search context might not be fully cleaned when...</td>\n",
              "      <td>2020-05-05T18:47:49Z</td>\n",
              "      <td>https://api.github.com/repos/elastic/elasticse...</td>\n",
              "    </tr>\n",
              "    <tr>\n",
              "      <th>20364</th>\n",
              "      <td>20364</td>\n",
              "      <td>NaN</td>\n",
              "      <td>NaN</td>\n",
              "      <td>NONE</td>\n",
              "      <td>## Description \\r\\nCurrent `DynamoDBMapper.pri...</td>\n",
              "      <td>NaN</td>\n",
              "      <td>4</td>\n",
              "      <td>https://api.github.com/repos/aws/aws-sdk-java/...</td>\n",
              "      <td>2020-02-18T14:02:30Z</td>\n",
              "      <td>NaN</td>\n",
              "      <td>https://api.github.com/repos/aws/aws-sdk-java/...</td>\n",
              "      <td>https://github.com/aws/aws-sdk-java/issues/2232</td>\n",
              "      <td>566913583</td>\n",
              "      <td>https://api.github.com/repos/aws/aws-sdk-java/...</td>\n",
              "      <td>False</td>\n",
              "      <td>NaN</td>\n",
              "      <td>MDU6SXNzdWU1NjY5MTM1ODM=</td>\n",
              "      <td>2232</td>\n",
              "      <td>NaN</td>\n",
              "      <td>0</td>\n",
              "      <td>0</td>\n",
              "      <td>0</td>\n",
              "      <td>0</td>\n",
              "      <td>0</td>\n",
              "      <td>0</td>\n",
              "      <td>0</td>\n",
              "      <td>0</td>\n",
              "      <td>0</td>\n",
              "      <td>https://api.github.com/repos/aws/aws-sdk-java/...</td>\n",
              "      <td>https://api.github.com/repos/aws/aws-sdk-java</td>\n",
              "      <td>open</td>\n",
              "      <td>https://api.github.com/repos/aws/aws-sdk-java/...</td>\n",
              "      <td>DynamoDBMapper.privateMarshallIntoObject shoul...</td>\n",
              "      <td>2020-03-04T13:35:54Z</td>\n",
              "      <td>https://api.github.com/repos/aws/aws-sdk-java/...</td>\n",
              "    </tr>\n",
              "    <tr>\n",
              "      <th>8773</th>\n",
              "      <td>8773</td>\n",
              "      <td>NaN</td>\n",
              "      <td>NaN</td>\n",
              "      <td>NONE</td>\n",
              "      <td>ç°å¨æä¸ä¸ªé®é¢å°±æ¯æåå»ºäºä¸ä¸ªç...</td>\n",
              "      <td>NaN</td>\n",
              "      <td>2</td>\n",
              "      <td>https://api.github.com/repos/alibaba/Sentinel/...</td>\n",
              "      <td>2021-11-26T08:44:09Z</td>\n",
              "      <td>NaN</td>\n",
              "      <td>https://api.github.com/repos/alibaba/Sentinel/...</td>\n",
              "      <td>https://github.com/alibaba/Sentinel/issues/2461</td>\n",
              "      <td>1064225714</td>\n",
              "      <td>https://api.github.com/repos/alibaba/Sentinel/...</td>\n",
              "      <td>False</td>\n",
              "      <td>NaN</td>\n",
              "      <td>I_kwDOB6Fn_M4_bsuy</td>\n",
              "      <td>2461</td>\n",
              "      <td>NaN</td>\n",
              "      <td>0</td>\n",
              "      <td>0</td>\n",
              "      <td>0</td>\n",
              "      <td>0</td>\n",
              "      <td>0</td>\n",
              "      <td>0</td>\n",
              "      <td>0</td>\n",
              "      <td>0</td>\n",
              "      <td>0</td>\n",
              "      <td>https://api.github.com/repos/alibaba/Sentinel/...</td>\n",
              "      <td>https://api.github.com/repos/alibaba/Sentinel</td>\n",
              "      <td>open</td>\n",
              "      <td>https://api.github.com/repos/alibaba/Sentinel/...</td>\n",
              "      <td>springçå¨å±å¼å¸¸å¤çå¨ï¼ä¼å¯¼è´çæ...</td>\n",
              "      <td>2021-12-07T03:30:02Z</td>\n",
              "      <td>https://api.github.com/repos/alibaba/Sentinel/...</td>\n",
              "    </tr>\n",
              "  </tbody>\n",
              "</table>\n",
              "</div>"
            ],
            "text/plain": [
              "       Unnamed: 0  ...                                                url\n",
              "4509         4509  ...  https://api.github.com/repos/elastic/elasticse...\n",
              "20364       20364  ...  https://api.github.com/repos/aws/aws-sdk-java/...\n",
              "8773         8773  ...  https://api.github.com/repos/alibaba/Sentinel/...\n",
              "\n",
              "[3 rows x 35 columns]"
            ]
          },
          "metadata": {},
          "execution_count": 3
        }
      ]
    },
    {
      "cell_type": "code",
      "source": [
        "df.shape"
      ],
      "metadata": {
        "colab": {
          "base_uri": "https://localhost:8080/"
        },
        "id": "d2IvBPlP_uM2",
        "outputId": "d61c77b4-dd8c-4038-a5ce-c2501a759d23"
      },
      "execution_count": null,
      "outputs": [
        {
          "output_type": "execute_result",
          "data": {
            "text/plain": [
              "(34268, 35)"
            ]
          },
          "metadata": {},
          "execution_count": 4
        }
      ]
    },
    {
      "cell_type": "code",
      "metadata": {
        "id": "tz1yecM8zz-M",
        "colab": {
          "base_uri": "https://localhost:8080/"
        },
        "outputId": "87d814f7-089d-43c7-a2ee-f5f29e8253fd"
      },
      "source": [
        "from collections import defaultdict\n",
        "\n",
        "wbuch = dict()\n",
        "\n",
        "for index in range(df.shape[1]):\n",
        "    wbuch[int(index)] = defaultdict(int)\n",
        "    for element in df.iloc[:,index]:\n",
        "        wbuch[int(index)][str(type(element))] += 1\n",
        "\n",
        "wbuch"
      ],
      "execution_count": null,
      "outputs": [
        {
          "output_type": "execute_result",
          "data": {
            "text/plain": [
              "{0: defaultdict(int, {\"<class 'int'>\": 34268}),\n",
              " 1: defaultdict(int, {\"<class 'float'>\": 34264, \"<class 'str'>\": 4}),\n",
              " 2: defaultdict(int, {\"<class 'float'>\": 34268}),\n",
              " 3: defaultdict(int, {\"<class 'str'>\": 34268}),\n",
              " 4: defaultdict(int, {\"<class 'float'>\": 1155, \"<class 'str'>\": 33113}),\n",
              " 5: defaultdict(int, {\"<class 'float'>\": 34268}),\n",
              " 6: defaultdict(int, {\"<class 'int'>\": 34268}),\n",
              " 7: defaultdict(int, {\"<class 'str'>\": 34268}),\n",
              " 8: defaultdict(int, {\"<class 'str'>\": 34268}),\n",
              " 9: defaultdict(int, {\"<class 'bool'>\": 5180, \"<class 'float'>\": 29088}),\n",
              " 10: defaultdict(int, {\"<class 'str'>\": 34268}),\n",
              " 11: defaultdict(int, {\"<class 'str'>\": 34268}),\n",
              " 12: defaultdict(int, {\"<class 'int'>\": 34268}),\n",
              " 13: defaultdict(int, {\"<class 'str'>\": 34268}),\n",
              " 14: defaultdict(int, {\"<class 'bool'>\": 34268}),\n",
              " 15: defaultdict(int, {\"<class 'float'>\": 34268}),\n",
              " 16: defaultdict(int, {\"<class 'str'>\": 34268}),\n",
              " 17: defaultdict(int, {\"<class 'int'>\": 34268}),\n",
              " 18: defaultdict(int, {\"<class 'float'>\": 34268}),\n",
              " 19: defaultdict(int, {\"<class 'int'>\": 34268}),\n",
              " 20: defaultdict(int, {\"<class 'int'>\": 34268}),\n",
              " 21: defaultdict(int, {\"<class 'int'>\": 34268}),\n",
              " 22: defaultdict(int, {\"<class 'int'>\": 34268}),\n",
              " 23: defaultdict(int, {\"<class 'int'>\": 34268}),\n",
              " 24: defaultdict(int, {\"<class 'int'>\": 34268}),\n",
              " 25: defaultdict(int, {\"<class 'int'>\": 34268}),\n",
              " 26: defaultdict(int, {\"<class 'int'>\": 34268}),\n",
              " 27: defaultdict(int, {\"<class 'int'>\": 34268}),\n",
              " 28: defaultdict(int, {\"<class 'str'>\": 34268}),\n",
              " 29: defaultdict(int, {\"<class 'str'>\": 34268}),\n",
              " 30: defaultdict(int, {\"<class 'str'>\": 34268}),\n",
              " 31: defaultdict(int, {\"<class 'str'>\": 34268}),\n",
              " 32: defaultdict(int, {\"<class 'str'>\": 34268}),\n",
              " 33: defaultdict(int, {\"<class 'str'>\": 34268}),\n",
              " 34: defaultdict(int, {\"<class 'str'>\": 34268})}"
            ]
          },
          "metadata": {},
          "execution_count": 5
        }
      ]
    },
    {
      "cell_type": "markdown",
      "source": [
        "## Text Cleaning"
      ],
      "metadata": {
        "id": "PyCUlNSjXgy6"
      }
    },
    {
      "cell_type": "code",
      "source": [
        "import Cleaning\n",
        "\n",
        "for field in [\"title\", \"body\"]:\n",
        "    df[\"clean_\" + field] = df[field].apply(lambda x: Cleaning.justLettersOrNumbers(x))\n",
        "    df[\"code_\" + field] = df[\"clean_\" + field].apply(lambda x: Cleaning.codeOrNot(x))\n",
        "    df[\"clean_\" + field] = df[\"clean_\" + field].apply(lambda x: Cleaning.firstBlock(x))\n",
        "    df[\"clean_\" + field] = df[\"clean_\" + field].apply(lambda x: Cleaning.secondBlock(x))\n",
        "    df[\"clean_\" + field] = df[\"clean_\" + field].apply(lambda x: Cleaning.thirdBlock(x))\n",
        "    df[\"clean_\" + field] = df[\"clean_\" + field].apply(lambda x: Cleaning.justInCase(x))\n",
        "    df[\"clean_\" + field] = df[\"clean_\" + field].apply(lambda x: Cleaning.antiHTML(x))\n",
        "    df[\"clean_\" + field] = df[\"clean_\" + field].apply(lambda x: Cleaning.killCamelCase(x))\n",
        "\n",
        "df.head(3)"
      ],
      "metadata": {
        "colab": {
          "base_uri": "https://localhost:8080/",
          "height": 502
        },
        "id": "Amllnlmyh9hm",
        "outputId": "88846bb9-387d-41c5-9fea-b34b06e216a1"
      },
      "execution_count": null,
      "outputs": [
        {
          "output_type": "stream",
          "name": "stdout",
          "text": [
            "[nltk_data] Downloading package stopwords to /root/nltk_data...\n",
            "[nltk_data]   Unzipping corpora/stopwords.zip.\n",
            "[nltk_data] Downloading package wordnet to /root/nltk_data...\n",
            "[nltk_data]   Unzipping corpora/wordnet.zip.\n",
            "[nltk_data] Downloading package words to /root/nltk_data...\n",
            "[nltk_data]   Unzipping corpora/words.zip.\n"
          ]
        },
        {
          "output_type": "execute_result",
          "data": {
            "text/html": [
              "<div>\n",
              "<style scoped>\n",
              "    .dataframe tbody tr th:only-of-type {\n",
              "        vertical-align: middle;\n",
              "    }\n",
              "\n",
              "    .dataframe tbody tr th {\n",
              "        vertical-align: top;\n",
              "    }\n",
              "\n",
              "    .dataframe thead th {\n",
              "        text-align: right;\n",
              "    }\n",
              "</style>\n",
              "<table border=\"1\" class=\"dataframe\">\n",
              "  <thead>\n",
              "    <tr style=\"text-align: right;\">\n",
              "      <th></th>\n",
              "      <th>Unnamed: 0</th>\n",
              "      <th>active_lock_reason</th>\n",
              "      <th>assignee</th>\n",
              "      <th>author_association</th>\n",
              "      <th>body</th>\n",
              "      <th>closed_at</th>\n",
              "      <th>comments</th>\n",
              "      <th>comments_url</th>\n",
              "      <th>created_at</th>\n",
              "      <th>draft</th>\n",
              "      <th>events_url</th>\n",
              "      <th>html_url</th>\n",
              "      <th>id</th>\n",
              "      <th>labels_url</th>\n",
              "      <th>locked</th>\n",
              "      <th>milestone</th>\n",
              "      <th>node_id</th>\n",
              "      <th>number</th>\n",
              "      <th>performed_via_github_app</th>\n",
              "      <th>reaction +1</th>\n",
              "      <th>reaction -1</th>\n",
              "      <th>reaction confused</th>\n",
              "      <th>reaction eyes</th>\n",
              "      <th>reaction heart</th>\n",
              "      <th>reaction hooray</th>\n",
              "      <th>reaction laugh</th>\n",
              "      <th>reaction rocket</th>\n",
              "      <th>reaction total_count</th>\n",
              "      <th>reaction url</th>\n",
              "      <th>repository_url</th>\n",
              "      <th>state</th>\n",
              "      <th>timeline_url</th>\n",
              "      <th>title</th>\n",
              "      <th>updated_at</th>\n",
              "      <th>url</th>\n",
              "      <th>clean_title</th>\n",
              "      <th>code_title</th>\n",
              "      <th>clean_body</th>\n",
              "      <th>code_body</th>\n",
              "    </tr>\n",
              "  </thead>\n",
              "  <tbody>\n",
              "    <tr>\n",
              "      <th>0</th>\n",
              "      <td>0</td>\n",
              "      <td>NaN</td>\n",
              "      <td>NaN</td>\n",
              "      <td>NONE</td>\n",
              "      <td>I put the problem in MD</td>\n",
              "      <td>NaN</td>\n",
              "      <td>1</td>\n",
              "      <td>https://api.github.com/repos/spring-projects/s...</td>\n",
              "      <td>2021-12-11T02:13:23Z</td>\n",
              "      <td>NaN</td>\n",
              "      <td>https://api.github.com/repos/spring-projects/s...</td>\n",
              "      <td>https://github.com/spring-projects/spring-boot...</td>\n",
              "      <td>1077359600</td>\n",
              "      <td>https://api.github.com/repos/spring-projects/s...</td>\n",
              "      <td>False</td>\n",
              "      <td>NaN</td>\n",
              "      <td>I_kwDOAGAU1s5ANzPw</td>\n",
              "      <td>28991</td>\n",
              "      <td>NaN</td>\n",
              "      <td>0</td>\n",
              "      <td>0</td>\n",
              "      <td>0</td>\n",
              "      <td>0</td>\n",
              "      <td>0</td>\n",
              "      <td>0</td>\n",
              "      <td>0</td>\n",
              "      <td>0</td>\n",
              "      <td>0</td>\n",
              "      <td>https://api.github.com/repos/spring-projects/s...</td>\n",
              "      <td>https://api.github.com/repos/spring-projects/s...</td>\n",
              "      <td>open</td>\n",
              "      <td>https://api.github.com/repos/spring-projects/s...</td>\n",
              "      <td>JDK17 And SpringBoot-3.0.0-SNAPSHOT</td>\n",
              "      <td>2021-12-11T02:16:56Z</td>\n",
              "      <td>https://api.github.com/repos/spring-projects/s...</td>\n",
              "      <td>And</td>\n",
              "      <td>with code</td>\n",
              "      <td>I put the problem in</td>\n",
              "      <td>without code</td>\n",
              "    </tr>\n",
              "    <tr>\n",
              "      <th>1</th>\n",
              "      <td>1</td>\n",
              "      <td>NaN</td>\n",
              "      <td>NaN</td>\n",
              "      <td>NONE</td>\n",
              "      <td>I cannot include the actual code here, but I w...</td>\n",
              "      <td>NaN</td>\n",
              "      <td>0</td>\n",
              "      <td>https://api.github.com/repos/spring-projects/s...</td>\n",
              "      <td>2021-12-10T22:32:04Z</td>\n",
              "      <td>NaN</td>\n",
              "      <td>https://api.github.com/repos/spring-projects/s...</td>\n",
              "      <td>https://github.com/spring-projects/spring-boot...</td>\n",
              "      <td>1077283209</td>\n",
              "      <td>https://api.github.com/repos/spring-projects/s...</td>\n",
              "      <td>False</td>\n",
              "      <td>NaN</td>\n",
              "      <td>I_kwDOAGAU1s5ANgmJ</td>\n",
              "      <td>28990</td>\n",
              "      <td>NaN</td>\n",
              "      <td>0</td>\n",
              "      <td>0</td>\n",
              "      <td>0</td>\n",
              "      <td>0</td>\n",
              "      <td>0</td>\n",
              "      <td>0</td>\n",
              "      <td>0</td>\n",
              "      <td>0</td>\n",
              "      <td>0</td>\n",
              "      <td>https://api.github.com/repos/spring-projects/s...</td>\n",
              "      <td>https://api.github.com/repos/spring-projects/s...</td>\n",
              "      <td>open</td>\n",
              "      <td>https://api.github.com/repos/spring-projects/s...</td>\n",
              "      <td>Dev Tools: Request Scoped Bean Not Working Whe...</td>\n",
              "      <td>2021-12-11T00:46:11Z</td>\n",
              "      <td>https://api.github.com/repos/spring-projects/s...</td>\n",
              "      <td>Dev Request Scoped Bean Not Working When Inclu...</td>\n",
              "      <td>with code</td>\n",
              "      <td>I cannot include the actual code but I will cr...</td>\n",
              "      <td>with code</td>\n",
              "    </tr>\n",
              "    <tr>\n",
              "      <th>2</th>\n",
              "      <td>2</td>\n",
              "      <td>NaN</td>\n",
              "      <td>NaN</td>\n",
              "      <td>NONE</td>\n",
              "      <td>I've got a problem from migrating from SB 2.3 ...</td>\n",
              "      <td>NaN</td>\n",
              "      <td>3</td>\n",
              "      <td>https://api.github.com/repos/spring-projects/s...</td>\n",
              "      <td>2021-12-10T09:06:49Z</td>\n",
              "      <td>NaN</td>\n",
              "      <td>https://api.github.com/repos/spring-projects/s...</td>\n",
              "      <td>https://github.com/spring-projects/spring-boot...</td>\n",
              "      <td>1076600016</td>\n",
              "      <td>https://api.github.com/repos/spring-projects/s...</td>\n",
              "      <td>False</td>\n",
              "      <td>NaN</td>\n",
              "      <td>I_kwDOAGAU1s5AK5zQ</td>\n",
              "      <td>28977</td>\n",
              "      <td>NaN</td>\n",
              "      <td>0</td>\n",
              "      <td>0</td>\n",
              "      <td>0</td>\n",
              "      <td>0</td>\n",
              "      <td>0</td>\n",
              "      <td>0</td>\n",
              "      <td>0</td>\n",
              "      <td>0</td>\n",
              "      <td>0</td>\n",
              "      <td>https://api.github.com/repos/spring-projects/s...</td>\n",
              "      <td>https://api.github.com/repos/spring-projects/s...</td>\n",
              "      <td>open</td>\n",
              "      <td>https://api.github.com/repos/spring-projects/s...</td>\n",
              "      <td>DatabaseInitializationDependencyConfigurer tri...</td>\n",
              "      <td>2021-12-10T14:44:37Z</td>\n",
              "      <td>https://api.github.com/repos/spring-projects/s...</td>\n",
              "      <td>triggers eager initialization of factory beans</td>\n",
              "      <td>without code</td>\n",
              "      <td>got a problem from migrating from to When havi...</td>\n",
              "      <td>with code</td>\n",
              "    </tr>\n",
              "  </tbody>\n",
              "</table>\n",
              "</div>"
            ],
            "text/plain": [
              "   Unnamed: 0  ...     code_body\n",
              "0           0  ...  without code\n",
              "1           1  ...     with code\n",
              "2           2  ...     with code\n",
              "\n",
              "[3 rows x 39 columns]"
            ]
          },
          "metadata": {},
          "execution_count": 6
        }
      ]
    },
    {
      "cell_type": "code",
      "source": [
        "df.drop([\"Unnamed: 0\"], axis=1, inplace=True)"
      ],
      "metadata": {
        "id": "ctgyjrfSXvVC"
      },
      "execution_count": null,
      "outputs": []
    },
    {
      "cell_type": "code",
      "source": [
        "# df.to_csv(\"repos.csv\")"
      ],
      "metadata": {
        "id": "vzA2KFsnXvXE"
      },
      "execution_count": null,
      "outputs": []
    },
    {
      "cell_type": "code",
      "source": [
        ""
      ],
      "metadata": {
        "id": "GSHWIPLUXvZS"
      },
      "execution_count": null,
      "outputs": []
    },
    {
      "cell_type": "code",
      "source": [
        ""
      ],
      "metadata": {
        "id": "OtqvVGz6Xvbz"
      },
      "execution_count": null,
      "outputs": []
    },
    {
      "cell_type": "code",
      "metadata": {
        "id": "k3v2Igatm5vC"
      },
      "source": [
        ""
      ],
      "execution_count": null,
      "outputs": []
    },
    {
      "cell_type": "code",
      "metadata": {
        "id": "3FtGT8hmziGC"
      },
      "source": [
        ""
      ],
      "execution_count": null,
      "outputs": []
    }
  ]
}