{
  "nbformat": 4,
  "nbformat_minor": 0,
  "metadata": {
    "colab": {
      "name": "LDA_Experiment3.ipynb",
      "provenance": [],
      "collapsed_sections": [],
      "toc_visible": true,
      "authorship_tag": "ABX9TyMbQxqVCo06DnQTTx+Srhk1"
    },
    "kernelspec": {
      "name": "python3",
      "display_name": "Python 3"
    },
    "language_info": {
      "name": "python"
    },
    "accelerator": "GPU"
  },
  "cells": [
    {
      "cell_type": "markdown",
      "metadata": {
        "id": "50mS8rZXzFue"
      },
      "source": [
        "# Latent Dirichlet Allocation \n",
        "---"
      ]
    },
    {
      "cell_type": "code",
      "metadata": {
        "colab": {
          "base_uri": "https://localhost:8080/"
        },
        "id": "DrB_g_9b-r3R",
        "outputId": "9ffdec79-33d2-42c8-9284-5d4a3d9899b1"
      },
      "source": [
        "from google.colab import drive\n",
        "drive.mount('/content/gdrive')"
      ],
      "execution_count": 1,
      "outputs": [
        {
          "output_type": "stream",
          "name": "stdout",
          "text": [
            "Mounted at /content/gdrive\n"
          ]
        }
      ]
    },
    {
      "cell_type": "code",
      "metadata": {
        "id": "GO0eGutG-r6A"
      },
      "source": [
        "import os\n",
        "current_folder = \"/content/gdrive/My Drive/Workshop/TOM/\"\n",
        "os.chdir(current_folder)"
      ],
      "execution_count": 2,
      "outputs": []
    },
    {
      "cell_type": "code",
      "metadata": {
        "id": "aXrNzemq-r8s"
      },
      "source": [
        "# datasets_link = \"/content/gdrive/MyDrive/Master/3Entscheidung/AFVFND/SecondWeek/SecondAssignment/FakeNewsDetection/FakeNewsDatasets/04/\"\n",
        "# os.listdir(datasets_link)\n",
        "    "
      ],
      "execution_count": 3,
      "outputs": []
    },
    {
      "cell_type": "markdown",
      "metadata": {
        "id": "A8BeOCG47Y9l"
      },
      "source": [
        "## Data"
      ]
    },
    {
      "cell_type": "code",
      "metadata": {
        "id": "NrEO-KVE7D-n"
      },
      "source": [
        "import pandas as pd\n",
        "import matplotlib.pyplot as plt\n",
        "import numpy as np\n",
        "from sklearn.model_selection import train_test_split\n",
        "from nltk.corpus import stopwords\n",
        "import re \n",
        "from nltk.stem import WordNetLemmatizer"
      ],
      "execution_count": 4,
      "outputs": []
    },
    {
      "cell_type": "code",
      "metadata": {
        "colab": {
          "base_uri": "https://localhost:8080/",
          "height": 352
        },
        "id": "vPH4fB7W7Znh",
        "outputId": "cf06d9e1-47ed-40dd-9671-94ebc17ea469"
      },
      "source": [
        "# 0: Fake, 1: Real\n",
        "# dataset_link = os.path.join(datasets_link, \"dataset.csv\")\n",
        "data = pd.read_csv(\"repos.csv\")\n",
        "# data = pd.read_csv(\"issues.csv\")\n",
        "data.head(2)"
      ],
      "execution_count": 5,
      "outputs": [
        {
          "output_type": "stream",
          "name": "stderr",
          "text": [
            "/usr/local/lib/python3.7/dist-packages/IPython/core/interactiveshell.py:2718: DtypeWarning: Columns (1) have mixed types.Specify dtype option on import or set low_memory=False.\n",
            "  interactivity=interactivity, compiler=compiler, result=result)\n"
          ]
        },
        {
          "output_type": "execute_result",
          "data": {
            "text/html": [
              "<div>\n",
              "<style scoped>\n",
              "    .dataframe tbody tr th:only-of-type {\n",
              "        vertical-align: middle;\n",
              "    }\n",
              "\n",
              "    .dataframe tbody tr th {\n",
              "        vertical-align: top;\n",
              "    }\n",
              "\n",
              "    .dataframe thead th {\n",
              "        text-align: right;\n",
              "    }\n",
              "</style>\n",
              "<table border=\"1\" class=\"dataframe\">\n",
              "  <thead>\n",
              "    <tr style=\"text-align: right;\">\n",
              "      <th></th>\n",
              "      <th>Unnamed: 0</th>\n",
              "      <th>active_lock_reason</th>\n",
              "      <th>assignee</th>\n",
              "      <th>author_association</th>\n",
              "      <th>body</th>\n",
              "      <th>closed_at</th>\n",
              "      <th>comments</th>\n",
              "      <th>comments_url</th>\n",
              "      <th>created_at</th>\n",
              "      <th>draft</th>\n",
              "      <th>events_url</th>\n",
              "      <th>html_url</th>\n",
              "      <th>id</th>\n",
              "      <th>labels_url</th>\n",
              "      <th>locked</th>\n",
              "      <th>milestone</th>\n",
              "      <th>node_id</th>\n",
              "      <th>number</th>\n",
              "      <th>performed_via_github_app</th>\n",
              "      <th>reaction +1</th>\n",
              "      <th>reaction -1</th>\n",
              "      <th>reaction confused</th>\n",
              "      <th>reaction eyes</th>\n",
              "      <th>reaction heart</th>\n",
              "      <th>reaction hooray</th>\n",
              "      <th>reaction laugh</th>\n",
              "      <th>reaction rocket</th>\n",
              "      <th>reaction total_count</th>\n",
              "      <th>reaction url</th>\n",
              "      <th>repository_url</th>\n",
              "      <th>state</th>\n",
              "      <th>timeline_url</th>\n",
              "      <th>title</th>\n",
              "      <th>updated_at</th>\n",
              "      <th>url</th>\n",
              "      <th>clean_title</th>\n",
              "      <th>code_title</th>\n",
              "      <th>clean_body</th>\n",
              "      <th>code_body</th>\n",
              "    </tr>\n",
              "  </thead>\n",
              "  <tbody>\n",
              "    <tr>\n",
              "      <th>0</th>\n",
              "      <td>0</td>\n",
              "      <td>NaN</td>\n",
              "      <td>NaN</td>\n",
              "      <td>NONE</td>\n",
              "      <td>I put the problem in MD</td>\n",
              "      <td>NaN</td>\n",
              "      <td>1</td>\n",
              "      <td>https://api.github.com/repos/spring-projects/s...</td>\n",
              "      <td>2021-12-11T02:13:23Z</td>\n",
              "      <td>NaN</td>\n",
              "      <td>https://api.github.com/repos/spring-projects/s...</td>\n",
              "      <td>https://github.com/spring-projects/spring-boot...</td>\n",
              "      <td>1077359600</td>\n",
              "      <td>https://api.github.com/repos/spring-projects/s...</td>\n",
              "      <td>False</td>\n",
              "      <td>NaN</td>\n",
              "      <td>I_kwDOAGAU1s5ANzPw</td>\n",
              "      <td>28991</td>\n",
              "      <td>NaN</td>\n",
              "      <td>0</td>\n",
              "      <td>0</td>\n",
              "      <td>0</td>\n",
              "      <td>0</td>\n",
              "      <td>0</td>\n",
              "      <td>0</td>\n",
              "      <td>0</td>\n",
              "      <td>0</td>\n",
              "      <td>0</td>\n",
              "      <td>https://api.github.com/repos/spring-projects/s...</td>\n",
              "      <td>https://api.github.com/repos/spring-projects/s...</td>\n",
              "      <td>open</td>\n",
              "      <td>https://api.github.com/repos/spring-projects/s...</td>\n",
              "      <td>JDK17 And SpringBoot-3.0.0-SNAPSHOT</td>\n",
              "      <td>2021-12-11T02:16:56Z</td>\n",
              "      <td>https://api.github.com/repos/spring-projects/s...</td>\n",
              "      <td>And</td>\n",
              "      <td>with code</td>\n",
              "      <td>I put the problem in</td>\n",
              "      <td>without code</td>\n",
              "    </tr>\n",
              "    <tr>\n",
              "      <th>1</th>\n",
              "      <td>1</td>\n",
              "      <td>NaN</td>\n",
              "      <td>NaN</td>\n",
              "      <td>NONE</td>\n",
              "      <td>I cannot include the actual code here, but I w...</td>\n",
              "      <td>NaN</td>\n",
              "      <td>0</td>\n",
              "      <td>https://api.github.com/repos/spring-projects/s...</td>\n",
              "      <td>2021-12-10T22:32:04Z</td>\n",
              "      <td>NaN</td>\n",
              "      <td>https://api.github.com/repos/spring-projects/s...</td>\n",
              "      <td>https://github.com/spring-projects/spring-boot...</td>\n",
              "      <td>1077283209</td>\n",
              "      <td>https://api.github.com/repos/spring-projects/s...</td>\n",
              "      <td>False</td>\n",
              "      <td>NaN</td>\n",
              "      <td>I_kwDOAGAU1s5ANgmJ</td>\n",
              "      <td>28990</td>\n",
              "      <td>NaN</td>\n",
              "      <td>0</td>\n",
              "      <td>0</td>\n",
              "      <td>0</td>\n",
              "      <td>0</td>\n",
              "      <td>0</td>\n",
              "      <td>0</td>\n",
              "      <td>0</td>\n",
              "      <td>0</td>\n",
              "      <td>0</td>\n",
              "      <td>https://api.github.com/repos/spring-projects/s...</td>\n",
              "      <td>https://api.github.com/repos/spring-projects/s...</td>\n",
              "      <td>open</td>\n",
              "      <td>https://api.github.com/repos/spring-projects/s...</td>\n",
              "      <td>Dev Tools: Request Scoped Bean Not Working Whe...</td>\n",
              "      <td>2021-12-11T00:46:11Z</td>\n",
              "      <td>https://api.github.com/repos/spring-projects/s...</td>\n",
              "      <td>Dev Request Scoped Bean Not Working When Inclu...</td>\n",
              "      <td>with code</td>\n",
              "      <td>I cannot include the actual code but I will cr...</td>\n",
              "      <td>with code</td>\n",
              "    </tr>\n",
              "  </tbody>\n",
              "</table>\n",
              "</div>"
            ],
            "text/plain": [
              "   Unnamed: 0  ...     code_body\n",
              "0           0  ...  without code\n",
              "1           1  ...     with code\n",
              "\n",
              "[2 rows x 39 columns]"
            ]
          },
          "metadata": {},
          "execution_count": 5
        }
      ]
    },
    {
      "cell_type": "code",
      "metadata": {
        "colab": {
          "base_uri": "https://localhost:8080/",
          "height": 318
        },
        "id": "M7IfofNn7Zph",
        "outputId": "227949da-e4c4-4894-8b56-9cdb46667a51"
      },
      "source": [
        "real_news = data#.drop(data[data[\"clean\"]==\"0\"].index)\n",
        "real_news.head(2)"
      ],
      "execution_count": 6,
      "outputs": [
        {
          "output_type": "execute_result",
          "data": {
            "text/html": [
              "<div>\n",
              "<style scoped>\n",
              "    .dataframe tbody tr th:only-of-type {\n",
              "        vertical-align: middle;\n",
              "    }\n",
              "\n",
              "    .dataframe tbody tr th {\n",
              "        vertical-align: top;\n",
              "    }\n",
              "\n",
              "    .dataframe thead th {\n",
              "        text-align: right;\n",
              "    }\n",
              "</style>\n",
              "<table border=\"1\" class=\"dataframe\">\n",
              "  <thead>\n",
              "    <tr style=\"text-align: right;\">\n",
              "      <th></th>\n",
              "      <th>Unnamed: 0</th>\n",
              "      <th>active_lock_reason</th>\n",
              "      <th>assignee</th>\n",
              "      <th>author_association</th>\n",
              "      <th>body</th>\n",
              "      <th>closed_at</th>\n",
              "      <th>comments</th>\n",
              "      <th>comments_url</th>\n",
              "      <th>created_at</th>\n",
              "      <th>draft</th>\n",
              "      <th>events_url</th>\n",
              "      <th>html_url</th>\n",
              "      <th>id</th>\n",
              "      <th>labels_url</th>\n",
              "      <th>locked</th>\n",
              "      <th>milestone</th>\n",
              "      <th>node_id</th>\n",
              "      <th>number</th>\n",
              "      <th>performed_via_github_app</th>\n",
              "      <th>reaction +1</th>\n",
              "      <th>reaction -1</th>\n",
              "      <th>reaction confused</th>\n",
              "      <th>reaction eyes</th>\n",
              "      <th>reaction heart</th>\n",
              "      <th>reaction hooray</th>\n",
              "      <th>reaction laugh</th>\n",
              "      <th>reaction rocket</th>\n",
              "      <th>reaction total_count</th>\n",
              "      <th>reaction url</th>\n",
              "      <th>repository_url</th>\n",
              "      <th>state</th>\n",
              "      <th>timeline_url</th>\n",
              "      <th>title</th>\n",
              "      <th>updated_at</th>\n",
              "      <th>url</th>\n",
              "      <th>clean_title</th>\n",
              "      <th>code_title</th>\n",
              "      <th>clean_body</th>\n",
              "      <th>code_body</th>\n",
              "    </tr>\n",
              "  </thead>\n",
              "  <tbody>\n",
              "    <tr>\n",
              "      <th>0</th>\n",
              "      <td>0</td>\n",
              "      <td>NaN</td>\n",
              "      <td>NaN</td>\n",
              "      <td>NONE</td>\n",
              "      <td>I put the problem in MD</td>\n",
              "      <td>NaN</td>\n",
              "      <td>1</td>\n",
              "      <td>https://api.github.com/repos/spring-projects/s...</td>\n",
              "      <td>2021-12-11T02:13:23Z</td>\n",
              "      <td>NaN</td>\n",
              "      <td>https://api.github.com/repos/spring-projects/s...</td>\n",
              "      <td>https://github.com/spring-projects/spring-boot...</td>\n",
              "      <td>1077359600</td>\n",
              "      <td>https://api.github.com/repos/spring-projects/s...</td>\n",
              "      <td>False</td>\n",
              "      <td>NaN</td>\n",
              "      <td>I_kwDOAGAU1s5ANzPw</td>\n",
              "      <td>28991</td>\n",
              "      <td>NaN</td>\n",
              "      <td>0</td>\n",
              "      <td>0</td>\n",
              "      <td>0</td>\n",
              "      <td>0</td>\n",
              "      <td>0</td>\n",
              "      <td>0</td>\n",
              "      <td>0</td>\n",
              "      <td>0</td>\n",
              "      <td>0</td>\n",
              "      <td>https://api.github.com/repos/spring-projects/s...</td>\n",
              "      <td>https://api.github.com/repos/spring-projects/s...</td>\n",
              "      <td>open</td>\n",
              "      <td>https://api.github.com/repos/spring-projects/s...</td>\n",
              "      <td>JDK17 And SpringBoot-3.0.0-SNAPSHOT</td>\n",
              "      <td>2021-12-11T02:16:56Z</td>\n",
              "      <td>https://api.github.com/repos/spring-projects/s...</td>\n",
              "      <td>And</td>\n",
              "      <td>with code</td>\n",
              "      <td>I put the problem in</td>\n",
              "      <td>without code</td>\n",
              "    </tr>\n",
              "    <tr>\n",
              "      <th>1</th>\n",
              "      <td>1</td>\n",
              "      <td>NaN</td>\n",
              "      <td>NaN</td>\n",
              "      <td>NONE</td>\n",
              "      <td>I cannot include the actual code here, but I w...</td>\n",
              "      <td>NaN</td>\n",
              "      <td>0</td>\n",
              "      <td>https://api.github.com/repos/spring-projects/s...</td>\n",
              "      <td>2021-12-10T22:32:04Z</td>\n",
              "      <td>NaN</td>\n",
              "      <td>https://api.github.com/repos/spring-projects/s...</td>\n",
              "      <td>https://github.com/spring-projects/spring-boot...</td>\n",
              "      <td>1077283209</td>\n",
              "      <td>https://api.github.com/repos/spring-projects/s...</td>\n",
              "      <td>False</td>\n",
              "      <td>NaN</td>\n",
              "      <td>I_kwDOAGAU1s5ANgmJ</td>\n",
              "      <td>28990</td>\n",
              "      <td>NaN</td>\n",
              "      <td>0</td>\n",
              "      <td>0</td>\n",
              "      <td>0</td>\n",
              "      <td>0</td>\n",
              "      <td>0</td>\n",
              "      <td>0</td>\n",
              "      <td>0</td>\n",
              "      <td>0</td>\n",
              "      <td>0</td>\n",
              "      <td>https://api.github.com/repos/spring-projects/s...</td>\n",
              "      <td>https://api.github.com/repos/spring-projects/s...</td>\n",
              "      <td>open</td>\n",
              "      <td>https://api.github.com/repos/spring-projects/s...</td>\n",
              "      <td>Dev Tools: Request Scoped Bean Not Working Whe...</td>\n",
              "      <td>2021-12-11T00:46:11Z</td>\n",
              "      <td>https://api.github.com/repos/spring-projects/s...</td>\n",
              "      <td>Dev Request Scoped Bean Not Working When Inclu...</td>\n",
              "      <td>with code</td>\n",
              "      <td>I cannot include the actual code but I will cr...</td>\n",
              "      <td>with code</td>\n",
              "    </tr>\n",
              "  </tbody>\n",
              "</table>\n",
              "</div>"
            ],
            "text/plain": [
              "   Unnamed: 0  ...     code_body\n",
              "0           0  ...  without code\n",
              "1           1  ...     with code\n",
              "\n",
              "[2 rows x 39 columns]"
            ]
          },
          "metadata": {},
          "execution_count": 6
        }
      ]
    },
    {
      "cell_type": "code",
      "metadata": {
        "colab": {
          "base_uri": "https://localhost:8080/"
        },
        "id": "OtbnY6vt7Zr9",
        "outputId": "1d8a1706-9980-4c39-99f3-10b7c938f03e"
      },
      "source": [
        "import nltk\n",
        "nltk.download('stopwords') \n",
        "nltk.download('wordnet')\n",
        "\n",
        "lemm = WordNetLemmatizer()\n",
        "def news_to_words(raw_news):\n",
        "    if type(raw_news)==str:\n",
        "        lower_case = raw_news.lower()\n",
        "        letters_only = re.findall(r\"[a-z]+\", lower_case)\n",
        "        stops = set(stopwords.words(\"english\"))\n",
        "        meaningful_words = [w for w in letters_only if not w in stops]\n",
        "        lemmatized = [lemm.lemmatize(word) for word in meaningful_words]\n",
        "        return (\" \".join(lemmatized))\n",
        "    else:\n",
        "        return np.nan"
      ],
      "execution_count": 7,
      "outputs": [
        {
          "output_type": "stream",
          "name": "stdout",
          "text": [
            "[nltk_data] Downloading package stopwords to /root/nltk_data...\n",
            "[nltk_data]   Unzipping corpora/stopwords.zip.\n",
            "[nltk_data] Downloading package wordnet to /root/nltk_data...\n",
            "[nltk_data]   Unzipping corpora/wordnet.zip.\n"
          ]
        }
      ]
    },
    {
      "cell_type": "code",
      "metadata": {
        "colab": {
          "base_uri": "https://localhost:8080/"
        },
        "id": "HN39I66d7ZuC",
        "outputId": "4a2c6191-fdbe-4bce-9c61-356d746c99d0"
      },
      "source": [
        "# real_news[\"clean\"] = real_news[\"clean_title\"].apply(news_to_words)\n",
        "# print(real_news.shape)\n",
        "real_news.dropna(subset=[\"clean_title\"], inplace=True)\n",
        "print(real_news.shape)"
      ],
      "execution_count": 8,
      "outputs": [
        {
          "output_type": "stream",
          "name": "stdout",
          "text": [
            "(31553, 39)\n"
          ]
        }
      ]
    },
    {
      "cell_type": "code",
      "source": [
        "real_news.head(2)"
      ],
      "metadata": {
        "colab": {
          "base_uri": "https://localhost:8080/",
          "height": 318
        },
        "id": "Kyqq0C4pQYJa",
        "outputId": "489f341e-f0b0-4aa2-f798-276ad3d4f693"
      },
      "execution_count": 9,
      "outputs": [
        {
          "output_type": "execute_result",
          "data": {
            "text/html": [
              "<div>\n",
              "<style scoped>\n",
              "    .dataframe tbody tr th:only-of-type {\n",
              "        vertical-align: middle;\n",
              "    }\n",
              "\n",
              "    .dataframe tbody tr th {\n",
              "        vertical-align: top;\n",
              "    }\n",
              "\n",
              "    .dataframe thead th {\n",
              "        text-align: right;\n",
              "    }\n",
              "</style>\n",
              "<table border=\"1\" class=\"dataframe\">\n",
              "  <thead>\n",
              "    <tr style=\"text-align: right;\">\n",
              "      <th></th>\n",
              "      <th>Unnamed: 0</th>\n",
              "      <th>active_lock_reason</th>\n",
              "      <th>assignee</th>\n",
              "      <th>author_association</th>\n",
              "      <th>body</th>\n",
              "      <th>closed_at</th>\n",
              "      <th>comments</th>\n",
              "      <th>comments_url</th>\n",
              "      <th>created_at</th>\n",
              "      <th>draft</th>\n",
              "      <th>events_url</th>\n",
              "      <th>html_url</th>\n",
              "      <th>id</th>\n",
              "      <th>labels_url</th>\n",
              "      <th>locked</th>\n",
              "      <th>milestone</th>\n",
              "      <th>node_id</th>\n",
              "      <th>number</th>\n",
              "      <th>performed_via_github_app</th>\n",
              "      <th>reaction +1</th>\n",
              "      <th>reaction -1</th>\n",
              "      <th>reaction confused</th>\n",
              "      <th>reaction eyes</th>\n",
              "      <th>reaction heart</th>\n",
              "      <th>reaction hooray</th>\n",
              "      <th>reaction laugh</th>\n",
              "      <th>reaction rocket</th>\n",
              "      <th>reaction total_count</th>\n",
              "      <th>reaction url</th>\n",
              "      <th>repository_url</th>\n",
              "      <th>state</th>\n",
              "      <th>timeline_url</th>\n",
              "      <th>title</th>\n",
              "      <th>updated_at</th>\n",
              "      <th>url</th>\n",
              "      <th>clean_title</th>\n",
              "      <th>code_title</th>\n",
              "      <th>clean_body</th>\n",
              "      <th>code_body</th>\n",
              "    </tr>\n",
              "  </thead>\n",
              "  <tbody>\n",
              "    <tr>\n",
              "      <th>0</th>\n",
              "      <td>0</td>\n",
              "      <td>NaN</td>\n",
              "      <td>NaN</td>\n",
              "      <td>NONE</td>\n",
              "      <td>I put the problem in MD</td>\n",
              "      <td>NaN</td>\n",
              "      <td>1</td>\n",
              "      <td>https://api.github.com/repos/spring-projects/s...</td>\n",
              "      <td>2021-12-11T02:13:23Z</td>\n",
              "      <td>NaN</td>\n",
              "      <td>https://api.github.com/repos/spring-projects/s...</td>\n",
              "      <td>https://github.com/spring-projects/spring-boot...</td>\n",
              "      <td>1077359600</td>\n",
              "      <td>https://api.github.com/repos/spring-projects/s...</td>\n",
              "      <td>False</td>\n",
              "      <td>NaN</td>\n",
              "      <td>I_kwDOAGAU1s5ANzPw</td>\n",
              "      <td>28991</td>\n",
              "      <td>NaN</td>\n",
              "      <td>0</td>\n",
              "      <td>0</td>\n",
              "      <td>0</td>\n",
              "      <td>0</td>\n",
              "      <td>0</td>\n",
              "      <td>0</td>\n",
              "      <td>0</td>\n",
              "      <td>0</td>\n",
              "      <td>0</td>\n",
              "      <td>https://api.github.com/repos/spring-projects/s...</td>\n",
              "      <td>https://api.github.com/repos/spring-projects/s...</td>\n",
              "      <td>open</td>\n",
              "      <td>https://api.github.com/repos/spring-projects/s...</td>\n",
              "      <td>JDK17 And SpringBoot-3.0.0-SNAPSHOT</td>\n",
              "      <td>2021-12-11T02:16:56Z</td>\n",
              "      <td>https://api.github.com/repos/spring-projects/s...</td>\n",
              "      <td>And</td>\n",
              "      <td>with code</td>\n",
              "      <td>I put the problem in</td>\n",
              "      <td>without code</td>\n",
              "    </tr>\n",
              "    <tr>\n",
              "      <th>1</th>\n",
              "      <td>1</td>\n",
              "      <td>NaN</td>\n",
              "      <td>NaN</td>\n",
              "      <td>NONE</td>\n",
              "      <td>I cannot include the actual code here, but I w...</td>\n",
              "      <td>NaN</td>\n",
              "      <td>0</td>\n",
              "      <td>https://api.github.com/repos/spring-projects/s...</td>\n",
              "      <td>2021-12-10T22:32:04Z</td>\n",
              "      <td>NaN</td>\n",
              "      <td>https://api.github.com/repos/spring-projects/s...</td>\n",
              "      <td>https://github.com/spring-projects/spring-boot...</td>\n",
              "      <td>1077283209</td>\n",
              "      <td>https://api.github.com/repos/spring-projects/s...</td>\n",
              "      <td>False</td>\n",
              "      <td>NaN</td>\n",
              "      <td>I_kwDOAGAU1s5ANgmJ</td>\n",
              "      <td>28990</td>\n",
              "      <td>NaN</td>\n",
              "      <td>0</td>\n",
              "      <td>0</td>\n",
              "      <td>0</td>\n",
              "      <td>0</td>\n",
              "      <td>0</td>\n",
              "      <td>0</td>\n",
              "      <td>0</td>\n",
              "      <td>0</td>\n",
              "      <td>0</td>\n",
              "      <td>https://api.github.com/repos/spring-projects/s...</td>\n",
              "      <td>https://api.github.com/repos/spring-projects/s...</td>\n",
              "      <td>open</td>\n",
              "      <td>https://api.github.com/repos/spring-projects/s...</td>\n",
              "      <td>Dev Tools: Request Scoped Bean Not Working Whe...</td>\n",
              "      <td>2021-12-11T00:46:11Z</td>\n",
              "      <td>https://api.github.com/repos/spring-projects/s...</td>\n",
              "      <td>Dev Request Scoped Bean Not Working When Inclu...</td>\n",
              "      <td>with code</td>\n",
              "      <td>I cannot include the actual code but I will cr...</td>\n",
              "      <td>with code</td>\n",
              "    </tr>\n",
              "  </tbody>\n",
              "</table>\n",
              "</div>"
            ],
            "text/plain": [
              "   Unnamed: 0  ...     code_body\n",
              "0           0  ...  without code\n",
              "1           1  ...     with code\n",
              "\n",
              "[2 rows x 39 columns]"
            ]
          },
          "metadata": {},
          "execution_count": 9
        }
      ]
    },
    {
      "cell_type": "code",
      "metadata": {
        "colab": {
          "base_uri": "https://localhost:8080/",
          "height": 318
        },
        "id": "PuWigipD7ZwY",
        "outputId": "3618c165-c7bf-4fd5-f62d-59de9fb46a41"
      },
      "source": [
        "# import pandas as pd\n",
        "real_news = pd.read_csv(\"titles_no_code_communities.csv\")\n",
        "real_news.head(2)"
      ],
      "execution_count": 10,
      "outputs": [
        {
          "output_type": "stream",
          "name": "stderr",
          "text": [
            "/usr/local/lib/python3.7/dist-packages/IPython/core/interactiveshell.py:2718: DtypeWarning: Columns (1) have mixed types.Specify dtype option on import or set low_memory=False.\n",
            "  interactivity=interactivity, compiler=compiler, result=result)\n"
          ]
        },
        {
          "output_type": "execute_result",
          "data": {
            "text/html": [
              "<div>\n",
              "<style scoped>\n",
              "    .dataframe tbody tr th:only-of-type {\n",
              "        vertical-align: middle;\n",
              "    }\n",
              "\n",
              "    .dataframe tbody tr th {\n",
              "        vertical-align: top;\n",
              "    }\n",
              "\n",
              "    .dataframe thead th {\n",
              "        text-align: right;\n",
              "    }\n",
              "</style>\n",
              "<table border=\"1\" class=\"dataframe\">\n",
              "  <thead>\n",
              "    <tr style=\"text-align: right;\">\n",
              "      <th></th>\n",
              "      <th>Unnamed: 0</th>\n",
              "      <th>active_lock_reason</th>\n",
              "      <th>assignee</th>\n",
              "      <th>author_association</th>\n",
              "      <th>body</th>\n",
              "      <th>closed_at</th>\n",
              "      <th>comments</th>\n",
              "      <th>comments_url</th>\n",
              "      <th>created_at</th>\n",
              "      <th>draft</th>\n",
              "      <th>events_url</th>\n",
              "      <th>html_url</th>\n",
              "      <th>id</th>\n",
              "      <th>labels_url</th>\n",
              "      <th>locked</th>\n",
              "      <th>milestone</th>\n",
              "      <th>node_id</th>\n",
              "      <th>number</th>\n",
              "      <th>performed_via_github_app</th>\n",
              "      <th>reaction +1</th>\n",
              "      <th>reaction -1</th>\n",
              "      <th>reaction confused</th>\n",
              "      <th>reaction eyes</th>\n",
              "      <th>reaction heart</th>\n",
              "      <th>reaction hooray</th>\n",
              "      <th>reaction laugh</th>\n",
              "      <th>reaction rocket</th>\n",
              "      <th>reaction total_count</th>\n",
              "      <th>reaction url</th>\n",
              "      <th>repository_url</th>\n",
              "      <th>state</th>\n",
              "      <th>timeline_url</th>\n",
              "      <th>title</th>\n",
              "      <th>updated_at</th>\n",
              "      <th>url</th>\n",
              "      <th>clean_title</th>\n",
              "      <th>code_title</th>\n",
              "      <th>clean_body</th>\n",
              "      <th>code_body</th>\n",
              "      <th>dummy_index</th>\n",
              "      <th>community</th>\n",
              "    </tr>\n",
              "  </thead>\n",
              "  <tbody>\n",
              "    <tr>\n",
              "      <th>0</th>\n",
              "      <td>2</td>\n",
              "      <td>NaN</td>\n",
              "      <td>NaN</td>\n",
              "      <td>NONE</td>\n",
              "      <td>I've got a problem from migrating from SB 2.3 ...</td>\n",
              "      <td>NaN</td>\n",
              "      <td>3</td>\n",
              "      <td>https://api.github.com/repos/spring-projects/s...</td>\n",
              "      <td>2021-12-10T09:06:49Z</td>\n",
              "      <td>NaN</td>\n",
              "      <td>https://api.github.com/repos/spring-projects/s...</td>\n",
              "      <td>https://github.com/spring-projects/spring-boot...</td>\n",
              "      <td>1076600016</td>\n",
              "      <td>https://api.github.com/repos/spring-projects/s...</td>\n",
              "      <td>False</td>\n",
              "      <td>NaN</td>\n",
              "      <td>I_kwDOAGAU1s5AK5zQ</td>\n",
              "      <td>28977</td>\n",
              "      <td>NaN</td>\n",
              "      <td>0</td>\n",
              "      <td>0</td>\n",
              "      <td>0</td>\n",
              "      <td>0</td>\n",
              "      <td>0</td>\n",
              "      <td>0</td>\n",
              "      <td>0</td>\n",
              "      <td>0</td>\n",
              "      <td>0</td>\n",
              "      <td>https://api.github.com/repos/spring-projects/s...</td>\n",
              "      <td>https://api.github.com/repos/spring-projects/s...</td>\n",
              "      <td>open</td>\n",
              "      <td>https://api.github.com/repos/spring-projects/s...</td>\n",
              "      <td>DatabaseInitializationDependencyConfigurer tri...</td>\n",
              "      <td>2021-12-10T14:44:37Z</td>\n",
              "      <td>https://api.github.com/repos/spring-projects/s...</td>\n",
              "      <td>triggers eager initialization of factory beans</td>\n",
              "      <td>without code</td>\n",
              "      <td>got a problem from migrating from to When havi...</td>\n",
              "      <td>with code</td>\n",
              "      <td>0</td>\n",
              "      <td>0</td>\n",
              "    </tr>\n",
              "    <tr>\n",
              "      <th>1</th>\n",
              "      <td>3</td>\n",
              "      <td>NaN</td>\n",
              "      <td>NaN</td>\n",
              "      <td>MEMBER</td>\n",
              "      <td>NaN</td>\n",
              "      <td>NaN</td>\n",
              "      <td>3</td>\n",
              "      <td>https://api.github.com/repos/spring-projects/s...</td>\n",
              "      <td>2021-12-10T08:44:05Z</td>\n",
              "      <td>NaN</td>\n",
              "      <td>https://api.github.com/repos/spring-projects/s...</td>\n",
              "      <td>https://github.com/spring-projects/spring-boot...</td>\n",
              "      <td>1076581722</td>\n",
              "      <td>https://api.github.com/repos/spring-projects/s...</td>\n",
              "      <td>False</td>\n",
              "      <td>NaN</td>\n",
              "      <td>I_kwDOAGAU1s5AK1Va</td>\n",
              "      <td>28976</td>\n",
              "      <td>NaN</td>\n",
              "      <td>0</td>\n",
              "      <td>0</td>\n",
              "      <td>0</td>\n",
              "      <td>0</td>\n",
              "      <td>0</td>\n",
              "      <td>0</td>\n",
              "      <td>0</td>\n",
              "      <td>0</td>\n",
              "      <td>0</td>\n",
              "      <td>https://api.github.com/repos/spring-projects/s...</td>\n",
              "      <td>https://api.github.com/repos/spring-projects/s...</td>\n",
              "      <td>open</td>\n",
              "      <td>https://api.github.com/repos/spring-projects/s...</td>\n",
              "      <td>Reinstate support for Spring Data Couchbase</td>\n",
              "      <td>2021-12-10T15:37:23Z</td>\n",
              "      <td>https://api.github.com/repos/spring-projects/s...</td>\n",
              "      <td>Reinstate support for Spring Data Couchbase</td>\n",
              "      <td>without code</td>\n",
              "      <td>NaN</td>\n",
              "      <td>without code</td>\n",
              "      <td>1</td>\n",
              "      <td>4</td>\n",
              "    </tr>\n",
              "  </tbody>\n",
              "</table>\n",
              "</div>"
            ],
            "text/plain": [
              "   Unnamed: 0 active_lock_reason  ...  dummy_index community\n",
              "0           2                NaN  ...            0         0\n",
              "1           3                NaN  ...            1         4\n",
              "\n",
              "[2 rows x 41 columns]"
            ]
          },
          "metadata": {},
          "execution_count": 10
        }
      ]
    },
    {
      "cell_type": "code",
      "source": [
        "X = real_news[[\"clean_title\"]]\n",
        "y = real_news[[\"community\"]]\n",
        "X.head(2)"
      ],
      "metadata": {
        "colab": {
          "base_uri": "https://localhost:8080/",
          "height": 111
        },
        "id": "De82tMSJq4n-",
        "outputId": "baddeb31-7dcf-4169-d8b0-e42fa6efaa7e"
      },
      "execution_count": 11,
      "outputs": [
        {
          "output_type": "execute_result",
          "data": {
            "text/html": [
              "<div>\n",
              "<style scoped>\n",
              "    .dataframe tbody tr th:only-of-type {\n",
              "        vertical-align: middle;\n",
              "    }\n",
              "\n",
              "    .dataframe tbody tr th {\n",
              "        vertical-align: top;\n",
              "    }\n",
              "\n",
              "    .dataframe thead th {\n",
              "        text-align: right;\n",
              "    }\n",
              "</style>\n",
              "<table border=\"1\" class=\"dataframe\">\n",
              "  <thead>\n",
              "    <tr style=\"text-align: right;\">\n",
              "      <th></th>\n",
              "      <th>clean_title</th>\n",
              "    </tr>\n",
              "  </thead>\n",
              "  <tbody>\n",
              "    <tr>\n",
              "      <th>0</th>\n",
              "      <td>triggers eager initialization of factory beans</td>\n",
              "    </tr>\n",
              "    <tr>\n",
              "      <th>1</th>\n",
              "      <td>Reinstate support for Spring Data Couchbase</td>\n",
              "    </tr>\n",
              "  </tbody>\n",
              "</table>\n",
              "</div>"
            ],
            "text/plain": [
              "                                      clean_title\n",
              "0  triggers eager initialization of factory beans\n",
              "1     Reinstate support for Spring Data Couchbase"
            ]
          },
          "metadata": {},
          "execution_count": 11
        }
      ]
    },
    {
      "cell_type": "code",
      "source": [
        "set(y[\"community\"])"
      ],
      "metadata": {
        "colab": {
          "base_uri": "https://localhost:8080/"
        },
        "id": "xFy_qc8BLvbF",
        "outputId": "d97679d7-9c47-430c-f627-ef10d731e83f"
      },
      "execution_count": 12,
      "outputs": [
        {
          "output_type": "execute_result",
          "data": {
            "text/plain": [
              "{-1,\n",
              " 0,\n",
              " 1,\n",
              " 2,\n",
              " 3,\n",
              " 4,\n",
              " 5,\n",
              " 6,\n",
              " 7,\n",
              " 8,\n",
              " 9,\n",
              " 10,\n",
              " 11,\n",
              " 12,\n",
              " 13,\n",
              " 14,\n",
              " 15,\n",
              " 16,\n",
              " 17,\n",
              " 18,\n",
              " 19,\n",
              " 20,\n",
              " 21,\n",
              " 22,\n",
              " 23,\n",
              " 24,\n",
              " 25,\n",
              " 26,\n",
              " 27,\n",
              " 28,\n",
              " 29,\n",
              " 30,\n",
              " 31,\n",
              " 32,\n",
              " 33,\n",
              " 34,\n",
              " 35,\n",
              " 36,\n",
              " 37,\n",
              " 38,\n",
              " 39,\n",
              " 40,\n",
              " 41,\n",
              " 42}"
            ]
          },
          "metadata": {},
          "execution_count": 12
        }
      ]
    },
    {
      "cell_type": "code",
      "metadata": {
        "colab": {
          "base_uri": "https://localhost:8080/"
        },
        "id": "sXhk3waH5PLM",
        "outputId": "b255aa5a-0515-4ea1-d879-f9840cbc0f21"
      },
      "source": [
        "import math\n",
        "print(math.floor(67*0.7), math.ceil(67*0.7))\n",
        "li = list(range(10))\n",
        "print(li[:6], li[6:])\n",
        "# left inclusive, right exclusive"
      ],
      "execution_count": 13,
      "outputs": [
        {
          "output_type": "stream",
          "name": "stdout",
          "text": [
            "46 47\n",
            "[0, 1, 2, 3, 4, 5] [6, 7, 8, 9]\n"
          ]
        }
      ]
    },
    {
      "cell_type": "code",
      "metadata": {
        "colab": {
          "base_uri": "https://localhost:8080/"
        },
        "id": "5LWM5LiW7Zys",
        "outputId": "bb579322-1ecf-44e4-f4c8-12b0653b41c2"
      },
      "source": [
        "# X_train, X_test, y_train, y_test = train_test_split(X, y, test_size=0.33, random_state=53)\n",
        "split_index = math.floor(X.shape[0]*0.7)\n",
        "X_train = X[:split_index]\n",
        "X_test = X[split_index:]\n",
        "X_train.shape, X_test.shape"
      ],
      "execution_count": 14,
      "outputs": [
        {
          "output_type": "execute_result",
          "data": {
            "text/plain": [
              "((12424, 1), (5325, 1))"
            ]
          },
          "metadata": {},
          "execution_count": 14
        }
      ]
    },
    {
      "cell_type": "markdown",
      "source": [
        "## Dimension"
      ],
      "metadata": {
        "id": "4R45__GNzr83"
      }
    },
    {
      "cell_type": "code",
      "metadata": {
        "id": "kGs_9v4q7Z05"
      },
      "source": [
        "from sklearn.feature_extraction.text import CountVectorizer\n",
        "\n",
        "count_vectorizer = CountVectorizer(max_features=2000, max_df=0.7)\n",
        "count_train = count_vectorizer.fit_transform(X_train[\"clean_title\"])\n",
        "count_test = count_vectorizer.transform(X_test[\"clean_title\"])"
      ],
      "execution_count": 15,
      "outputs": []
    },
    {
      "cell_type": "code",
      "metadata": {
        "colab": {
          "base_uri": "https://localhost:8080/"
        },
        "id": "-jQ8-2rN7Z3Q",
        "outputId": "6d3d6933-2591-4a17-84f6-19ac21561945"
      },
      "source": [
        "count_train"
      ],
      "execution_count": 16,
      "outputs": [
        {
          "output_type": "execute_result",
          "data": {
            "text/plain": [
              "<12424x2000 sparse matrix of type '<class 'numpy.int64'>'\n",
              "\twith 66352 stored elements in Compressed Sparse Row format>"
            ]
          },
          "metadata": {},
          "execution_count": 16
        }
      ]
    },
    {
      "cell_type": "code",
      "metadata": {
        "colab": {
          "base_uri": "https://localhost:8080/"
        },
        "id": "z6r1hGbp7Z5q",
        "outputId": "987a96ff-4d77-49de-98f9-120b398c16c5"
      },
      "source": [
        "count_test"
      ],
      "execution_count": 17,
      "outputs": [
        {
          "output_type": "execute_result",
          "data": {
            "text/plain": [
              "<5325x2000 sparse matrix of type '<class 'numpy.int64'>'\n",
              "\twith 24849 stored elements in Compressed Sparse Row format>"
            ]
          },
          "metadata": {},
          "execution_count": 17
        }
      ]
    },
    {
      "cell_type": "code",
      "metadata": {
        "id": "5x_Yoznp7Z8L"
      },
      "source": [
        "from sklearn.decomposition import LatentDirichletAllocation\n",
        "\n",
        "lda_model = LatentDirichletAllocation(n_components=10, max_iter=10, learning_method=\"online\", \n",
        "                                      random_state=100, batch_size=100, evaluate_every=-1,\n",
        "                                      n_jobs=-1)"
      ],
      "execution_count": 18,
      "outputs": []
    },
    {
      "cell_type": "code",
      "metadata": {
        "id": "7FtX7tpr7Z-R"
      },
      "source": [
        "lda_output = lda_model.fit_transform(count_train)"
      ],
      "execution_count": 19,
      "outputs": []
    },
    {
      "cell_type": "code",
      "metadata": {
        "colab": {
          "base_uri": "https://localhost:8080/"
        },
        "id": "uOvp-0bw7aAp",
        "outputId": "241e3cc3-2f62-4fad-de5c-c500129ae00f"
      },
      "source": [
        "print(lda_model)"
      ],
      "execution_count": 20,
      "outputs": [
        {
          "output_type": "stream",
          "name": "stdout",
          "text": [
            "LatentDirichletAllocation(batch_size=100, learning_method='online', n_jobs=-1,\n",
            "                          random_state=100)\n"
          ]
        }
      ]
    },
    {
      "cell_type": "code",
      "metadata": {
        "colab": {
          "base_uri": "https://localhost:8080/"
        },
        "id": "jsy9IZ7M7aDF",
        "outputId": "5ff23f3c-50e9-423e-da4b-348b212e79e1"
      },
      "source": [
        "from sklearn.model_selection import GridSearchCV\n",
        "\n",
        "search_params = {\"n_components\": [6, 7, 8], \n",
        "                 \"learning_decay\": [.5, .7, .9],\n",
        "                 \"learning_method\": [\"online\"]}\n",
        "\n",
        "lda = LatentDirichletAllocation()\n",
        "model = GridSearchCV(lda, param_grid=search_params)\n",
        "model.fit(count_train)"
      ],
      "execution_count": 21,
      "outputs": [
        {
          "output_type": "execute_result",
          "data": {
            "text/plain": [
              "GridSearchCV(estimator=LatentDirichletAllocation(),\n",
              "             param_grid={'learning_decay': [0.5, 0.7, 0.9],\n",
              "                         'learning_method': ['online'],\n",
              "                         'n_components': [6, 7, 8]})"
            ]
          },
          "metadata": {},
          "execution_count": 21
        }
      ]
    },
    {
      "cell_type": "code",
      "metadata": {
        "colab": {
          "base_uri": "https://localhost:8080/"
        },
        "id": "dgIs0feJ7aFk",
        "outputId": "8bbca78b-cde2-4965-fd52-d85cddf55178"
      },
      "source": [
        "best_lda_model = model.best_estimator_\n",
        "print(\"The best model is: {}\".format(model.best_params_))\n",
        "print(\"The best likelihood score: {}\".format(model.best_score_))\n",
        "print(\"Model perplexity: {}\".format(best_lda_model.perplexity(count_train)))"
      ],
      "execution_count": 22,
      "outputs": [
        {
          "output_type": "stream",
          "name": "stdout",
          "text": [
            "The best model is: {'learning_decay': 0.5, 'learning_method': 'online', 'n_components': 6}\n",
            "The best likelihood score: -106424.60559344964\n",
            "Model perplexity: 944.8919736813076\n"
          ]
        }
      ]
    },
    {
      "cell_type": "code",
      "metadata": {
        "id": "t0kQrznRJZ9v"
      },
      "source": [
        "n_topics = [6, 7, 8]\n",
        "# log_likelyhoods_5 = [round(gscore.mean_validation_score) for gscore in model.cv_results_ if gscore.parameters['learning_decay']==0.5]\n",
        "# log_likelyhoods_7 = [round(gscore.mean_validation_score) for gscore in model.cv_results_ if gscore.parameters['learning_decay']==0.7]\n",
        "# log_likelyhoods_9 = [round(gscore.mean_validation_score) for gscore in model.cv_results_ if gscore.parameters['learning_decay']==0.9]"
      ],
      "execution_count": 23,
      "outputs": []
    },
    {
      "cell_type": "code",
      "metadata": {
        "colab": {
          "base_uri": "https://localhost:8080/"
        },
        "id": "ytyXW2lBORIH",
        "outputId": "f8d48120-8c6a-4f48-b844-aa3a8effbac5"
      },
      "source": [
        "model.cv_results_[\"params\"]#[\"learning_decay\"]==0.5"
      ],
      "execution_count": 24,
      "outputs": [
        {
          "output_type": "execute_result",
          "data": {
            "text/plain": [
              "[{'learning_decay': 0.5, 'learning_method': 'online', 'n_components': 6},\n",
              " {'learning_decay': 0.5, 'learning_method': 'online', 'n_components': 7},\n",
              " {'learning_decay': 0.5, 'learning_method': 'online', 'n_components': 8},\n",
              " {'learning_decay': 0.7, 'learning_method': 'online', 'n_components': 6},\n",
              " {'learning_decay': 0.7, 'learning_method': 'online', 'n_components': 7},\n",
              " {'learning_decay': 0.7, 'learning_method': 'online', 'n_components': 8},\n",
              " {'learning_decay': 0.9, 'learning_method': 'online', 'n_components': 6},\n",
              " {'learning_decay': 0.9, 'learning_method': 'online', 'n_components': 7},\n",
              " {'learning_decay': 0.9, 'learning_method': 'online', 'n_components': 8}]"
            ]
          },
          "metadata": {},
          "execution_count": 24
        }
      ]
    },
    {
      "cell_type": "code",
      "metadata": {
        "colab": {
          "base_uri": "https://localhost:8080/"
        },
        "id": "JBG6x93jQ36Y",
        "outputId": "fe515d33-0ca3-49d3-a16b-76017c782e14"
      },
      "source": [
        "model.cv_results_[\"mean_test_score\"]"
      ],
      "execution_count": 25,
      "outputs": [
        {
          "output_type": "execute_result",
          "data": {
            "text/plain": [
              "array([-106424.60559345, -107586.13663434, -108576.37751121,\n",
              "       -106636.1310754 , -107875.36449133, -108984.79716312,\n",
              "       -107177.27911791, -108539.60129581, -109586.50968911])"
            ]
          },
          "metadata": {},
          "execution_count": 25
        }
      ]
    },
    {
      "cell_type": "code",
      "metadata": {
        "id": "9xcSNZtkQ9jY"
      },
      "source": [
        "parameters = model.cv_results_[\"params\"]\n",
        "scores = model.cv_results_[\"mean_test_score\"]\n",
        "\n",
        "log_likelyhoods_5 = [round(score) for parameter, score in zip(parameters, scores) if parameter[\"learning_decay\"]==0.5]\n",
        "log_likelyhoods_7 = [round(score) for parameter, score in zip(parameters, scores) if parameter[\"learning_decay\"]==0.7]\n",
        "log_likelyhoods_9 = [round(score) for parameter, score in zip(parameters, scores) if parameter[\"learning_decay\"]==0.9]\n",
        "# list(zip(parameters, scores)"
      ],
      "execution_count": 26,
      "outputs": []
    },
    {
      "cell_type": "code",
      "metadata": {
        "id": "HIDNmvCGJaAq"
      },
      "source": [
        "# model.cv_results_\n",
        "# log_likelyhoods_5"
      ],
      "execution_count": 27,
      "outputs": []
    },
    {
      "cell_type": "code",
      "metadata": {
        "colab": {
          "base_uri": "https://localhost:8080/",
          "height": 513
        },
        "id": "LqLGmQgjJaC2",
        "outputId": "dbf55c2f-8140-4edf-eea7-69b2e7ac1817"
      },
      "source": [
        "# Show graph\n",
        "plt.figure(figsize=(12, 8))\n",
        "plt.plot(n_topics, log_likelyhoods_5, label='0.5')\n",
        "plt.plot(n_topics, log_likelyhoods_7, label='0.7')\n",
        "plt.plot(n_topics, log_likelyhoods_9, label='0.9')\n",
        "plt.title(\"Choosing Optimal LDA Model\")\n",
        "plt.xlabel(\"Num Topics\")\n",
        "plt.ylabel(\"Log Likelyhood Scores\")\n",
        "plt.legend(title='Learning decay', loc='best')\n",
        "plt.show()"
      ],
      "execution_count": 28,
      "outputs": [
        {
          "output_type": "display_data",
          "data": {
            "image/png": "[encoded data removed]",
            "text/plain": [
              "<Figure size 864x576 with 1 Axes>"
            ]
          },
          "metadata": {
            "needs_background": "light"
          }
        }
      ]
    },
    {
      "cell_type": "code",
      "metadata": {
        "id": "MizuK5S4JaFb"
      },
      "source": [
        "def print_top_words(model, feature_names, n_top_words):\n",
        "    for index, topic in enumerate(model.components_):\n",
        "        message = \"\\n Topic #{}: \".format(index)\n",
        "        message += \" \".join([feature_names[i] for i in topic.argsort()[:-n_top_words-1:-1]])\n",
        "        print(message)\n",
        "        print(\"=\"*70)"
      ],
      "execution_count": 29,
      "outputs": []
    },
    {
      "cell_type": "code",
      "metadata": {
        "colab": {
          "base_uri": "https://localhost:8080/"
        },
        "id": "vpTjHDhQJaHt",
        "outputId": "24b68843-b9ee-40a8-fd29-785eed4cc366"
      },
      "source": [
        "n_top_words = 40\n",
        "print(\"\\n Topics in the LDA model: \")\n",
        "tf_feature_names = count_vectorizer.get_feature_names()\n",
        "print_top_words(best_lda_model, tf_feature_names, n_top_words)"
      ],
      "execution_count": 30,
      "outputs": [
        {
          "output_type": "stream",
          "name": "stdout",
          "text": [
            "\n",
            " Topics in the LDA model: \n",
            "\n",
            " Topic #0: is the when to not on and with data in if set by value are unable object query name list possible cannot field app no working filter date be has time string types same ability page or without different wrong\n",
            "======================================================================\n",
            "\n",
            " Topic #1: to of the in should use an it make from with file code table get being change provide methods multiple instead way screen document one json allow implement container swagger image version world fields javadoc other plugin any issues array\n",
            "======================================================================\n",
            "\n",
            " Topic #2: not type for to update does as after path request add missing spring more or docker key feature map return are properties be config via parameters enable need body find than start parse keys deprecated have cluster user call settings\n",
            "======================================================================\n",
            "\n",
            " Topic #3: and for with from in issue fix add to test class new values improve documentation tests editor create added on java column link functions text between integration gson check null annotations objects cloud during localization follow before android inside changes\n",
            "======================================================================\n",
            "\n",
            " Topic #4: for support add in of and custom default remove only parameter all tracking option some allow used configuration about experimental on adding classes by annotation property dependency into format message setting session order debugging index results generate which consider validation\n",
            "======================================================================\n",
            "\n",
            " Topic #5: to in how using the method when error can pattern with on server not work be exception line while connection always client show errors parsing response handling have full bug as command icon build mode database case result generic display\n",
            "======================================================================\n"
          ]
        },
        {
          "output_type": "stream",
          "name": "stderr",
          "text": [
            "/usr/local/lib/python3.7/dist-packages/sklearn/utils/deprecation.py:87: FutureWarning: Function get_feature_names is deprecated; get_feature_names is deprecated in 1.0 and will be removed in 1.2. Please use get_feature_names_out instead.\n",
            "  warnings.warn(msg, category=FutureWarning)\n"
          ]
        }
      ]
    },
    {
      "cell_type": "code",
      "metadata": {
        "id": "A059zcU5camL"
      },
      "source": [
        "def show_topics(vectorizer=count_vectorizer, lda_model=lda_model, n_words=20):\n",
        "    keywords = np.array(vectorizer.get_feature_names())\n",
        "    topic_keywords = list()\n",
        "    for topic_weights in lda_model.components_:\n",
        "        top_keyword_locs = (-topic_weights).argsort()[:n_words]\n",
        "        topic_keywords.append(keywords.take(top_keyword_locs))\n",
        "    return topic_keywords"
      ],
      "execution_count": 31,
      "outputs": []
    },
    {
      "cell_type": "code",
      "metadata": {
        "colab": {
          "base_uri": "https://localhost:8080/",
          "height": 408
        },
        "id": "aeIDEPsGczWQ",
        "outputId": "c17bc1bb-a8ce-4f3e-d471-9fe0e6872533"
      },
      "source": [
        "topic_keywords = show_topics(vectorizer=count_vectorizer, lda_model=best_lda_model, n_words=15)\n",
        "\n",
        "df_topic_keywords = pd.DataFrame(topic_keywords)\n",
        "df_topic_keywords.columns = [\"Word \" + str(i) for i in range(df_topic_keywords.shape[1])]\n",
        "df_topic_keywords.index = [\"Topic \" + str(i) for i in range(df_topic_keywords.shape[0])]\n",
        "df_topic_keywords"
      ],
      "execution_count": 32,
      "outputs": [
        {
          "output_type": "stream",
          "name": "stderr",
          "text": [
            "/usr/local/lib/python3.7/dist-packages/sklearn/utils/deprecation.py:87: FutureWarning: Function get_feature_names is deprecated; get_feature_names is deprecated in 1.0 and will be removed in 1.2. Please use get_feature_names_out instead.\n",
            "  warnings.warn(msg, category=FutureWarning)\n"
          ]
        },
        {
          "output_type": "execute_result",
          "data": {
            "text/html": [
              "<div>\n",
              "<style scoped>\n",
              "    .dataframe tbody tr th:only-of-type {\n",
              "        vertical-align: middle;\n",
              "    }\n",
              "\n",
              "    .dataframe tbody tr th {\n",
              "        vertical-align: top;\n",
              "    }\n",
              "\n",
              "    .dataframe thead th {\n",
              "        text-align: right;\n",
              "    }\n",
              "</style>\n",
              "<table border=\"1\" class=\"dataframe\">\n",
              "  <thead>\n",
              "    <tr style=\"text-align: right;\">\n",
              "      <th></th>\n",
              "      <th>Word 0</th>\n",
              "      <th>Word 1</th>\n",
              "      <th>Word 2</th>\n",
              "      <th>Word 3</th>\n",
              "      <th>Word 4</th>\n",
              "      <th>Word 5</th>\n",
              "      <th>Word 6</th>\n",
              "      <th>Word 7</th>\n",
              "      <th>Word 8</th>\n",
              "      <th>Word 9</th>\n",
              "      <th>Word 10</th>\n",
              "      <th>Word 11</th>\n",
              "      <th>Word 12</th>\n",
              "      <th>Word 13</th>\n",
              "      <th>Word 14</th>\n",
              "    </tr>\n",
              "  </thead>\n",
              "  <tbody>\n",
              "    <tr>\n",
              "      <th>Topic 0</th>\n",
              "      <td>is</td>\n",
              "      <td>the</td>\n",
              "      <td>when</td>\n",
              "      <td>to</td>\n",
              "      <td>not</td>\n",
              "      <td>on</td>\n",
              "      <td>and</td>\n",
              "      <td>with</td>\n",
              "      <td>data</td>\n",
              "      <td>in</td>\n",
              "      <td>if</td>\n",
              "      <td>set</td>\n",
              "      <td>by</td>\n",
              "      <td>value</td>\n",
              "      <td>are</td>\n",
              "    </tr>\n",
              "    <tr>\n",
              "      <th>Topic 1</th>\n",
              "      <td>to</td>\n",
              "      <td>of</td>\n",
              "      <td>the</td>\n",
              "      <td>in</td>\n",
              "      <td>should</td>\n",
              "      <td>use</td>\n",
              "      <td>an</td>\n",
              "      <td>it</td>\n",
              "      <td>make</td>\n",
              "      <td>from</td>\n",
              "      <td>with</td>\n",
              "      <td>file</td>\n",
              "      <td>code</td>\n",
              "      <td>table</td>\n",
              "      <td>get</td>\n",
              "    </tr>\n",
              "    <tr>\n",
              "      <th>Topic 2</th>\n",
              "      <td>not</td>\n",
              "      <td>type</td>\n",
              "      <td>for</td>\n",
              "      <td>to</td>\n",
              "      <td>update</td>\n",
              "      <td>does</td>\n",
              "      <td>as</td>\n",
              "      <td>after</td>\n",
              "      <td>path</td>\n",
              "      <td>request</td>\n",
              "      <td>add</td>\n",
              "      <td>missing</td>\n",
              "      <td>spring</td>\n",
              "      <td>more</td>\n",
              "      <td>or</td>\n",
              "    </tr>\n",
              "    <tr>\n",
              "      <th>Topic 3</th>\n",
              "      <td>and</td>\n",
              "      <td>for</td>\n",
              "      <td>with</td>\n",
              "      <td>from</td>\n",
              "      <td>in</td>\n",
              "      <td>issue</td>\n",
              "      <td>fix</td>\n",
              "      <td>add</td>\n",
              "      <td>to</td>\n",
              "      <td>test</td>\n",
              "      <td>class</td>\n",
              "      <td>new</td>\n",
              "      <td>values</td>\n",
              "      <td>improve</td>\n",
              "      <td>documentation</td>\n",
              "    </tr>\n",
              "    <tr>\n",
              "      <th>Topic 4</th>\n",
              "      <td>for</td>\n",
              "      <td>support</td>\n",
              "      <td>add</td>\n",
              "      <td>in</td>\n",
              "      <td>of</td>\n",
              "      <td>and</td>\n",
              "      <td>custom</td>\n",
              "      <td>default</td>\n",
              "      <td>remove</td>\n",
              "      <td>only</td>\n",
              "      <td>parameter</td>\n",
              "      <td>all</td>\n",
              "      <td>tracking</td>\n",
              "      <td>option</td>\n",
              "      <td>some</td>\n",
              "    </tr>\n",
              "    <tr>\n",
              "      <th>Topic 5</th>\n",
              "      <td>to</td>\n",
              "      <td>in</td>\n",
              "      <td>how</td>\n",
              "      <td>using</td>\n",
              "      <td>the</td>\n",
              "      <td>method</td>\n",
              "      <td>when</td>\n",
              "      <td>error</td>\n",
              "      <td>can</td>\n",
              "      <td>pattern</td>\n",
              "      <td>with</td>\n",
              "      <td>on</td>\n",
              "      <td>server</td>\n",
              "      <td>not</td>\n",
              "      <td>work</td>\n",
              "    </tr>\n",
              "  </tbody>\n",
              "</table>\n",
              "</div>"
            ],
            "text/plain": [
              "        Word 0   Word 1 Word 2  ...   Word 12  Word 13        Word 14\n",
              "Topic 0     is      the   when  ...        by    value            are\n",
              "Topic 1     to       of    the  ...      code    table            get\n",
              "Topic 2    not     type    for  ...    spring     more             or\n",
              "Topic 3    and      for   with  ...    values  improve  documentation\n",
              "Topic 4    for  support    add  ...  tracking   option           some\n",
              "Topic 5     to       in    how  ...    server      not           work\n",
              "\n",
              "[6 rows x 15 columns]"
            ]
          },
          "metadata": {},
          "execution_count": 32
        }
      ]
    },
    {
      "cell_type": "code",
      "metadata": {
        "colab": {
          "base_uri": "https://localhost:8080/"
        },
        "id": "ewcD9srnczYv",
        "outputId": "dde3a1ac-404a-4838-cbdf-0ec88e8347e1"
      },
      "source": [
        "topic_probability_scores = best_lda_model.transform(count_test)\n",
        "print(topic_probability_scores)"
      ],
      "execution_count": 33,
      "outputs": [
        {
          "output_type": "stream",
          "name": "stdout",
          "text": [
            "[[0.02412983 0.02399085 0.02387532 0.0238653  0.45926862 0.44487008]\n",
            " [0.19234896 0.38607595 0.02094221 0.02095323 0.14740375 0.2322759 ]\n",
            " [0.43638392 0.16656064 0.16672919 0.18270695 0.02380966 0.02380964]\n",
            " ...\n",
            " [0.08333334 0.08333334 0.5833333  0.08333334 0.08333334 0.08333334]\n",
            " [0.30957378 0.16665874 0.22291812 0.02380963 0.02380962 0.25323011]\n",
            " [0.72197216 0.05555556 0.05555556 0.05555556 0.05555556 0.05580561]]\n"
          ]
        }
      ]
    },
    {
      "cell_type": "code",
      "metadata": {
        "colab": {
          "base_uri": "https://localhost:8080/"
        },
        "id": "2eJGRn1gczbH",
        "outputId": "0483c239-2adf-4953-80da-ac4ee40dd079"
      },
      "source": [
        "def get_topic_text(topic, i):\n",
        "    print(\"The item {} was labeled {} \\n\".format(i, topic))\n",
        "    print(X_test.values[i])\n",
        "    print(\"-\"*30)\n",
        "\n",
        "for i in range(10):\n",
        "    get_topic_text((np.argmax(topic_probability_scores[i])), i)"
      ],
      "execution_count": 34,
      "outputs": [
        {
          "output_type": "stream",
          "name": "stdout",
          "text": [
            "The item 0 was labeled 4 \n",
            "\n",
            "['Add cross grid option to survey']\n",
            "------------------------------\n",
            "The item 1 was labeled 1 \n",
            "\n",
            "['How to add a camera to the application']\n",
            "------------------------------\n",
            "The item 2 was labeled 0 \n",
            "\n",
            "['Camera control stops working during landing after a mission']\n",
            "------------------------------\n",
            "The item 3 was labeled 3 \n",
            "\n",
            "['Choose between Airspeed and Ground Speed']\n",
            "------------------------------\n",
            "The item 4 was labeled 0 \n",
            "\n",
            "['Geotag photos']\n",
            "------------------------------\n",
            "The item 5 was labeled 5 \n",
            "\n",
            "['Mapbox maps not displaying features Incorrect reference']\n",
            "------------------------------\n",
            "The item 6 was labeled 5 \n",
            "\n",
            "['On Checklist Tower will be freezed when connected to Solo drone']\n",
            "------------------------------\n",
            "The item 7 was labeled 4 \n",
            "\n",
            "['add terrain data support']\n",
            "------------------------------\n",
            "The item 8 was labeled 3 \n",
            "\n",
            "['Audible battery report issue']\n",
            "------------------------------\n",
            "The item 9 was labeled 0 \n",
            "\n",
            "['Random positioning']\n",
            "------------------------------\n"
          ]
        }
      ]
    },
    {
      "cell_type": "code",
      "metadata": {
        "id": "fEVnzsuzczdO"
      },
      "source": [
        "labels = [np.argmax(topic_probability_scores[index]) for index in range(X_test.shape[0]) ]"
      ],
      "execution_count": 35,
      "outputs": []
    },
    {
      "cell_type": "code",
      "metadata": {
        "id": "a_zQBItrczgR",
        "colab": {
          "base_uri": "https://localhost:8080/"
        },
        "outputId": "d2b55166-d079-4797-80fc-375c82ee3dcb"
      },
      "source": [
        "len(labels)"
      ],
      "execution_count": 36,
      "outputs": [
        {
          "output_type": "execute_result",
          "data": {
            "text/plain": [
              "5325"
            ]
          },
          "metadata": {},
          "execution_count": 36
        }
      ]
    },
    {
      "cell_type": "code",
      "source": [
        "y.values"
      ],
      "metadata": {
        "colab": {
          "base_uri": "https://localhost:8080/"
        },
        "id": "9doxv_yBcgz9",
        "outputId": "0f6a8c5c-6f5f-4d82-9ff6-b1d3db5eb135"
      },
      "execution_count": 37,
      "outputs": [
        {
          "output_type": "execute_result",
          "data": {
            "text/plain": [
              "array([[ 0],\n",
              "       [ 4],\n",
              "       [ 7],\n",
              "       ...,\n",
              "       [ 6],\n",
              "       [24],\n",
              "       [21]])"
            ]
          },
          "metadata": {},
          "execution_count": 37
        }
      ]
    },
    {
      "cell_type": "code",
      "source": [
        "from sklearn.metrics import accuracy_score\n",
        "\n",
        "accuracy_score(y[split_index:].values, labels)"
      ],
      "metadata": {
        "colab": {
          "base_uri": "https://localhost:8080/"
        },
        "id": "mG7VXzHmYtwl",
        "outputId": "c5ddd41d-0ad9-4e8f-8794-104e584f9a71"
      },
      "execution_count": 38,
      "outputs": [
        {
          "output_type": "execute_result",
          "data": {
            "text/plain": [
              "0.06591549295774649"
            ]
          },
          "metadata": {},
          "execution_count": 38
        }
      ]
    },
    {
      "cell_type": "code",
      "source": [
        ""
      ],
      "metadata": {
        "id": "L0f7PdWDZBPK"
      },
      "execution_count": null,
      "outputs": []
    }
  ]
}