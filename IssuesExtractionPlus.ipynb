{
  "nbformat": 4,
  "nbformat_minor": 0,
  "metadata": {
    "colab": {
      "name": "IssuesExtractionPlus.ipynb",
      "provenance": [],
      "collapsed_sections": [],
      "toc_visible": true,
      "authorship_tag": "ABX9TyNB5nuN9vrbPFKSL4j5dDvu"
    },
    "kernelspec": {
      "name": "python3",
      "display_name": "Python 3"
    },
    "language_info": {
      "name": "python"
    }
  },
  "cells": [
    {
      "cell_type": "markdown",
      "metadata": {
        "id": "PQRBEGQA9l-r"
      },
      "source": [
        "# GitHub Issues Extraction\n",
        "---"
      ]
    },
    {
      "cell_type": "markdown",
      "metadata": {
        "id": "k05RgH3YozXL"
      },
      "source": [
        "## Drive Mounting"
      ]
    },
    {
      "cell_type": "code",
      "metadata": {
        "colab": {
          "base_uri": "https://localhost:8080/"
        },
        "id": "wrNewnly-JZa",
        "outputId": "63877745-9f51-44e9-e296-fd7f8ee2b570"
      },
      "source": [
        "from google.colab import drive\n",
        "drive.mount('/content/gdrive')"
      ],
      "execution_count": null,
      "outputs": [
        {
          "output_type": "stream",
          "name": "stdout",
          "text": [
            "Mounted at /content/gdrive\n"
          ]
        }
      ]
    },
    {
      "cell_type": "code",
      "metadata": {
        "id": "B36Htw2x-JcC"
      },
      "source": [
        "import os\n",
        "current_folder = \"/content/gdrive/My Drive/Workshop/TOM/\"\n",
        "os.chdir(current_folder)"
      ],
      "execution_count": null,
      "outputs": []
    },
    {
      "cell_type": "code",
      "metadata": {
        "colab": {
          "base_uri": "https://localhost:8080/"
        },
        "id": "ahHkCy5_-Jek",
        "outputId": "04bcada8-7531-4197-ee20-4e32b5c6bffc"
      },
      "source": [
        "repositories = os.path.join(current_folder, \"repos\")\n",
        "number_of_repositories = len(os.listdir(repositories))\n",
        "list_of_repositories = list(os.listdir(repositories))\n",
        "print(\"Folder: {}\".format(repositories)) \n",
        "print(\"There are {} repository files in this folder.\".format(number_of_repositories))"
      ],
      "execution_count": null,
      "outputs": [
        {
          "output_type": "stream",
          "name": "stdout",
          "text": [
            "Folder: /content/gdrive/My Drive/Workshop/TOM/repos\n",
            "There are 40 repository files in this folder.\n"
          ]
        }
      ]
    },
    {
      "cell_type": "markdown",
      "metadata": {
        "id": "PpxjTtJY-Pks"
      },
      "source": [
        "## Imports"
      ]
    },
    {
      "cell_type": "code",
      "metadata": {
        "colab": {
          "base_uri": "https://localhost:8080/"
        },
        "id": "2AAbn1n3OC03",
        "outputId": "ff8fb97d-a58c-4456-f782-cb014c7cf1a5"
      },
      "source": [
        "!pip install PyGithub"
      ],
      "execution_count": null,
      "outputs": [
        {
          "output_type": "stream",
          "name": "stdout",
          "text": [
            "Collecting PyGithub\n",
            "  Downloading PyGithub-1.55-py3-none-any.whl (291 kB)\n",
            "\u001b[K     |████████████████████████████████| 291 kB 5.2 MB/s \n",
            "\u001b[?25hCollecting deprecated\n",
            "  Downloading Deprecated-1.2.13-py2.py3-none-any.whl (9.6 kB)\n",
            "Collecting pynacl>=1.4.0\n",
            "  Downloading PyNaCl-1.4.0-cp35-abi3-manylinux1_x86_64.whl (961 kB)\n",
            "\u001b[K     |████████████████████████████████| 961 kB 39.2 MB/s \n",
            "\u001b[?25hRequirement already satisfied: requests>=2.14.0 in /usr/local/lib/python3.7/dist-packages (from PyGithub) (2.23.0)\n",
            "Collecting pyjwt>=2.0\n",
            "  Downloading PyJWT-2.3.0-py3-none-any.whl (16 kB)\n",
            "Requirement already satisfied: six in /usr/local/lib/python3.7/dist-packages (from pynacl>=1.4.0->PyGithub) (1.15.0)\n",
            "Requirement already satisfied: cffi>=1.4.1 in /usr/local/lib/python3.7/dist-packages (from pynacl>=1.4.0->PyGithub) (1.15.0)\n",
            "Requirement already satisfied: pycparser in /usr/local/lib/python3.7/dist-packages (from cffi>=1.4.1->pynacl>=1.4.0->PyGithub) (2.21)\n",
            "Requirement already satisfied: idna<3,>=2.5 in /usr/local/lib/python3.7/dist-packages (from requests>=2.14.0->PyGithub) (2.10)\n",
            "Requirement already satisfied: chardet<4,>=3.0.2 in /usr/local/lib/python3.7/dist-packages (from requests>=2.14.0->PyGithub) (3.0.4)\n",
            "Requirement already satisfied: certifi>=2017.4.17 in /usr/local/lib/python3.7/dist-packages (from requests>=2.14.0->PyGithub) (2021.10.8)\n",
            "Requirement already satisfied: urllib3!=1.25.0,!=1.25.1,<1.26,>=1.21.1 in /usr/local/lib/python3.7/dist-packages (from requests>=2.14.0->PyGithub) (1.24.3)\n",
            "Requirement already satisfied: wrapt<2,>=1.10 in /usr/local/lib/python3.7/dist-packages (from deprecated->PyGithub) (1.13.3)\n",
            "Installing collected packages: pynacl, pyjwt, deprecated, PyGithub\n",
            "Successfully installed PyGithub-1.55 deprecated-1.2.13 pyjwt-2.3.0 pynacl-1.4.0\n"
          ]
        }
      ]
    },
    {
      "cell_type": "code",
      "metadata": {
        "id": "9BJvsfAKOy_g"
      },
      "source": [
        "import pandas as pd\n",
        "import numpy as np\n",
        "from github import Github\n",
        "import pickle\n",
        "import random"
      ],
      "execution_count": null,
      "outputs": []
    },
    {
      "cell_type": "markdown",
      "metadata": {
        "id": "zANvq6yvOKrc"
      },
      "source": [
        "## [Repository](https://docs.google.com/spreadsheets/d/162RiTiA4xPYXUyyTwmVWp-4z88eSXAGmaocsptw8a9I/edit#gid=0) Extraction"
      ]
    },
    {
      "cell_type": "code",
      "source": [
        "with open(\"list_of_raw_repositories.txt\", \"r+\") as txt_file:\n",
        "    list_of_raw_repos = [element for element in txt_file.read().splitlines()]\n",
        "\n",
        "\n",
        "random_raw_repo = list_of_raw_repos[random.randint(0, len(list_of_raw_repos))]\n",
        "print(\"A random raw repository sample: \\n\\n {}\".format(random_raw_repo))"
      ],
      "metadata": {
        "id": "nL1vDgUBxjSR"
      },
      "execution_count": null,
      "outputs": []
    },
    {
      "cell_type": "code",
      "source": [
        "list_of_repositories = [repo[19:] for repo in list_of_raw_repos]\n",
        "random_repo = list_of_repositories[random.randint(0, len(list_of_repositories))]\n",
        "print(\"A clean repository sample: \\n\\n {}\".format(random_repo))"
      ],
      "metadata": {
        "colab": {
          "base_uri": "https://localhost:8080/"
        },
        "id": "4s1vpMCD1zxz",
        "outputId": "91651571-338c-4637-e757-51a1cf382041"
      },
      "execution_count": null,
      "outputs": [
        {
          "output_type": "stream",
          "name": "stdout",
          "text": [
            "A clean repository sample: \n",
            "\n",
            " jnr/jnr-posix\n"
          ]
        }
      ]
    },
    {
      "cell_type": "code",
      "metadata": {
        "colab": {
          "base_uri": "https://localhost:8080/"
        },
        "id": "4ZFZLsXia9pF",
        "outputId": "affb57bd-26b0-44f0-afba-ee4b46796c50"
      },
      "source": [
        "print(\"We are working with {} repositories. \\n\\n\".format(len(list_of_repositories)))\n",
        "\n",
        "\n",
        "value_counter = dict()\n",
        "list_of_issues = list()\n",
        "\n",
        "for index, repository in enumerate(list_of_repositories):\n",
        "    repo = g.get_repo(repository)\n",
        "    value_counter[str(repository)] = 0\n",
        "\n",
        "    if index%20==0: print(\"{} of {}\".format(index, 120))\n",
        "\n",
        "    for issue in repo.get_issues(state=\"open\"):\n",
        "        floating_dict = {key: value for key, value in issue._rawData.items() if type(value)!=dict and type(value)!=list}\n",
        "        floating_dict_reaction = {\"reaction \" + str(key): value for key, value in issue._rawData[\"reactions\"].items()}\n",
        "        floating_dict.update(floating_dict_reaction)\n",
        "        list_of_issues.append(floating_dict)\n",
        "        value_counter[str(repository)] += 1"
      ],
      "execution_count": null,
      "outputs": [
        {
          "output_type": "stream",
          "name": "stdout",
          "text": [
            "We are working with 120 repositories. \n",
            "\n",
            "\n",
            "0 of 120\n",
            "20 of 120\n",
            "40 of 120\n",
            "60 of 120\n",
            "80 of 120\n",
            "100 of 120\n"
          ]
        }
      ]
    },
    {
      "cell_type": "markdown",
      "metadata": {
        "id": "E8C98bojJlk1"
      },
      "source": [
        "## Extracted Issues"
      ]
    },
    {
      "cell_type": "code",
      "metadata": {
        "colab": {
          "base_uri": "https://localhost:8080/"
        },
        "id": "X0sVn55elRIS",
        "outputId": "e13c9d0c-7531-4f26-f1f2-efe069acfc1f"
      },
      "source": [
        "all_the_keys = sorted(list(set([element for wbuch in list_of_issues for element in wbuch.keys()])))\n",
        "print(\"We are working with {} features and {} rows. \".format(len(all_the_keys), len(list_of_issues)))"
      ],
      "execution_count": null,
      "outputs": [
        {
          "output_type": "stream",
          "name": "stdout",
          "text": [
            "We are working with 34 features and 34268 rows. \n"
          ]
        }
      ]
    },
    {
      "cell_type": "code",
      "metadata": {
        "id": "sL06l747lRLF"
      },
      "source": [
        "wbuchs = list()\n",
        "for dictionary in list_of_issues:\n",
        "    wbuch = dict()\n",
        "    for key in all_the_keys:\n",
        "        if key not in dictionary.keys():\n",
        "            wbuch[key] = np.nan\n",
        "        else:\n",
        "            wbuch[key] = dictionary[key]\n",
        "    wbuchs.append(wbuch)"
      ],
      "execution_count": null,
      "outputs": []
    },
    {
      "cell_type": "code",
      "metadata": {
        "colab": {
          "base_uri": "https://localhost:8080/",
          "height": 397
        },
        "id": "VqNnDn8UxOVy",
        "outputId": "63fd824e-9779-4241-e78a-cdecb039ae4b"
      },
      "source": [
        "repos = pd.DataFrame(data=wbuchs)\n",
        "repos.sample(4)"
      ],
      "execution_count": null,
      "outputs": [
        {
          "output_type": "execute_result",
          "data": {
            "text/html": [
              "<div>\n",
              "<style scoped>\n",
              "    .dataframe tbody tr th:only-of-type {\n",
              "        vertical-align: middle;\n",
              "    }\n",
              "\n",
              "    .dataframe tbody tr th {\n",
              "        vertical-align: top;\n",
              "    }\n",
              "\n",
              "    .dataframe thead th {\n",
              "        text-align: right;\n",
              "    }\n",
              "</style>\n",
              "<table border=\"1\" class=\"dataframe\">\n",
              "  <thead>\n",
              "    <tr style=\"text-align: right;\">\n",
              "      <th></th>\n",
              "      <th>active_lock_reason</th>\n",
              "      <th>assignee</th>\n",
              "      <th>author_association</th>\n",
              "      <th>body</th>\n",
              "      <th>closed_at</th>\n",
              "      <th>comments</th>\n",
              "      <th>comments_url</th>\n",
              "      <th>created_at</th>\n",
              "      <th>draft</th>\n",
              "      <th>events_url</th>\n",
              "      <th>html_url</th>\n",
              "      <th>id</th>\n",
              "      <th>labels_url</th>\n",
              "      <th>locked</th>\n",
              "      <th>milestone</th>\n",
              "      <th>node_id</th>\n",
              "      <th>number</th>\n",
              "      <th>performed_via_github_app</th>\n",
              "      <th>reaction +1</th>\n",
              "      <th>reaction -1</th>\n",
              "      <th>reaction confused</th>\n",
              "      <th>reaction eyes</th>\n",
              "      <th>reaction heart</th>\n",
              "      <th>reaction hooray</th>\n",
              "      <th>reaction laugh</th>\n",
              "      <th>reaction rocket</th>\n",
              "      <th>reaction total_count</th>\n",
              "      <th>reaction url</th>\n",
              "      <th>repository_url</th>\n",
              "      <th>state</th>\n",
              "      <th>timeline_url</th>\n",
              "      <th>title</th>\n",
              "      <th>updated_at</th>\n",
              "      <th>url</th>\n",
              "    </tr>\n",
              "  </thead>\n",
              "  <tbody>\n",
              "    <tr>\n",
              "      <th>4611</th>\n",
              "      <td>None</td>\n",
              "      <td>NaN</td>\n",
              "      <td>NONE</td>\n",
              "      <td>I am opening this as a separate issue since th...</td>\n",
              "      <td>None</td>\n",
              "      <td>18</td>\n",
              "      <td>https://api.github.com/repos/elastic/elasticse...</td>\n",
              "      <td>2015-03-09T16:25:56Z</td>\n",
              "      <td>NaN</td>\n",
              "      <td>https://api.github.com/repos/elastic/elasticse...</td>\n",
              "      <td>https://github.com/elastic/elasticsearch/issue...</td>\n",
              "      <td>60369836</td>\n",
              "      <td>https://api.github.com/repos/elastic/elasticse...</td>\n",
              "      <td>False</td>\n",
              "      <td>NaN</td>\n",
              "      <td>MDU6SXNzdWU2MDM2OTgzNg==</td>\n",
              "      <td>10043</td>\n",
              "      <td>None</td>\n",
              "      <td>12</td>\n",
              "      <td>0</td>\n",
              "      <td>0</td>\n",
              "      <td>0</td>\n",
              "      <td>0</td>\n",
              "      <td>0</td>\n",
              "      <td>0</td>\n",
              "      <td>0</td>\n",
              "      <td>12</td>\n",
              "      <td>https://api.github.com/repos/elastic/elasticse...</td>\n",
              "      <td>https://api.github.com/repos/elastic/elasticse...</td>\n",
              "      <td>open</td>\n",
              "      <td>https://api.github.com/repos/elastic/elasticse...</td>\n",
              "      <td>Support min_children &amp; max_children for nested...</td>\n",
              "      <td>2020-11-08T12:30:35Z</td>\n",
              "      <td>https://api.github.com/repos/elastic/elasticse...</td>\n",
              "    </tr>\n",
              "    <tr>\n",
              "      <th>18612</th>\n",
              "      <td>None</td>\n",
              "      <td>NaN</td>\n",
              "      <td>CONTRIBUTOR</td>\n",
              "      <td>Resolves #388\\r\\n\\r\\nAdds convenience methods ...</td>\n",
              "      <td>None</td>\n",
              "      <td>0</td>\n",
              "      <td>https://api.github.com/repos/google/gson/issue...</td>\n",
              "      <td>2021-10-03T16:43:23Z</td>\n",
              "      <td>False</td>\n",
              "      <td>https://api.github.com/repos/google/gson/issue...</td>\n",
              "      <td>https://github.com/google/gson/pull/1984</td>\n",
              "      <td>1014454854</td>\n",
              "      <td>https://api.github.com/repos/google/gson/issue...</td>\n",
              "      <td>False</td>\n",
              "      <td>NaN</td>\n",
              "      <td>PR_kwDOAfCA984smw1P</td>\n",
              "      <td>1984</td>\n",
              "      <td>None</td>\n",
              "      <td>0</td>\n",
              "      <td>0</td>\n",
              "      <td>0</td>\n",
              "      <td>0</td>\n",
              "      <td>0</td>\n",
              "      <td>0</td>\n",
              "      <td>0</td>\n",
              "      <td>0</td>\n",
              "      <td>0</td>\n",
              "      <td>https://api.github.com/repos/google/gson/issue...</td>\n",
              "      <td>https://api.github.com/repos/google/gson</td>\n",
              "      <td>open</td>\n",
              "      <td>https://api.github.com/repos/google/gson/issue...</td>\n",
              "      <td>Add `JsonWriter` methods `setEscapeNonAsciiCha...</td>\n",
              "      <td>2021-10-03T16:43:28Z</td>\n",
              "      <td>https://api.github.com/repos/google/gson/issue...</td>\n",
              "    </tr>\n",
              "    <tr>\n",
              "      <th>21810</th>\n",
              "      <td>None</td>\n",
              "      <td>NaN</td>\n",
              "      <td>NONE</td>\n",
              "      <td>I am trying to build a 6 node Cassandra cluste...</td>\n",
              "      <td>None</td>\n",
              "      <td>1</td>\n",
              "      <td>https://api.github.com/repos/Netflix/Priam/iss...</td>\n",
              "      <td>2018-04-27T09:30:21Z</td>\n",
              "      <td>NaN</td>\n",
              "      <td>https://api.github.com/repos/Netflix/Priam/iss...</td>\n",
              "      <td>https://github.com/Netflix/Priam/issues/675</td>\n",
              "      <td>318340035</td>\n",
              "      <td>https://api.github.com/repos/Netflix/Priam/iss...</td>\n",
              "      <td>False</td>\n",
              "      <td>NaN</td>\n",
              "      <td>MDU6SXNzdWUzMTgzNDAwMzU=</td>\n",
              "      <td>675</td>\n",
              "      <td>None</td>\n",
              "      <td>0</td>\n",
              "      <td>0</td>\n",
              "      <td>0</td>\n",
              "      <td>0</td>\n",
              "      <td>0</td>\n",
              "      <td>0</td>\n",
              "      <td>0</td>\n",
              "      <td>0</td>\n",
              "      <td>0</td>\n",
              "      <td>https://api.github.com/repos/Netflix/Priam/iss...</td>\n",
              "      <td>https://api.github.com/repos/Netflix/Priam</td>\n",
              "      <td>open</td>\n",
              "      <td>https://api.github.com/repos/Netflix/Priam/iss...</td>\n",
              "      <td>Priam bootstrap sequence</td>\n",
              "      <td>2018-06-01T04:03:37Z</td>\n",
              "      <td>https://api.github.com/repos/Netflix/Priam/iss...</td>\n",
              "    </tr>\n",
              "    <tr>\n",
              "      <th>11783</th>\n",
              "      <td>None</td>\n",
              "      <td>NaN</td>\n",
              "      <td>NONE</td>\n",
              "      <td>I'm using \\n\\n```\\nFileEntity entity = new Fil...</td>\n",
              "      <td>None</td>\n",
              "      <td>5</td>\n",
              "      <td>https://api.github.com/repos/android-async-htt...</td>\n",
              "      <td>2014-10-12T22:45:33Z</td>\n",
              "      <td>NaN</td>\n",
              "      <td>https://api.github.com/repos/android-async-htt...</td>\n",
              "      <td>https://github.com/android-async-http/android-...</td>\n",
              "      <td>45596150</td>\n",
              "      <td>https://api.github.com/repos/android-async-htt...</td>\n",
              "      <td>False</td>\n",
              "      <td>NaN</td>\n",
              "      <td>MDU6SXNzdWU0NTU5NjE1MA==</td>\n",
              "      <td>711</td>\n",
              "      <td>None</td>\n",
              "      <td>0</td>\n",
              "      <td>0</td>\n",
              "      <td>0</td>\n",
              "      <td>0</td>\n",
              "      <td>0</td>\n",
              "      <td>0</td>\n",
              "      <td>0</td>\n",
              "      <td>0</td>\n",
              "      <td>0</td>\n",
              "      <td>https://api.github.com/repos/android-async-htt...</td>\n",
              "      <td>https://api.github.com/repos/android-async-htt...</td>\n",
              "      <td>open</td>\n",
              "      <td>https://api.github.com/repos/android-async-htt...</td>\n",
              "      <td>onProgress not fired on put request</td>\n",
              "      <td>2017-08-26T12:20:47Z</td>\n",
              "      <td>https://api.github.com/repos/android-async-htt...</td>\n",
              "    </tr>\n",
              "  </tbody>\n",
              "</table>\n",
              "</div>"
            ],
            "text/plain": [
              "      active_lock_reason  ...                                                url\n",
              "4611                None  ...  https://api.github.com/repos/elastic/elasticse...\n",
              "18612               None  ...  https://api.github.com/repos/google/gson/issue...\n",
              "21810               None  ...  https://api.github.com/repos/Netflix/Priam/iss...\n",
              "11783               None  ...  https://api.github.com/repos/android-async-htt...\n",
              "\n",
              "[4 rows x 34 columns]"
            ]
          },
          "metadata": {},
          "execution_count": 32
        }
      ]
    },
    {
      "cell_type": "code",
      "source": [
        "repos.shape"
      ],
      "metadata": {
        "colab": {
          "base_uri": "https://localhost:8080/"
        },
        "id": "ibsOztLb7y8w",
        "outputId": "7eafd5ab-4f35-4c92-d9ec-1e65befc838d"
      },
      "execution_count": null,
      "outputs": [
        {
          "output_type": "execute_result",
          "data": {
            "text/plain": [
              "(34268, 34)"
            ]
          },
          "metadata": {},
          "execution_count": 33
        }
      ]
    },
    {
      "cell_type": "code",
      "metadata": {
        "id": "HLUsvUpXJpBf"
      },
      "source": [
        "repos.to_csv(\"repos.csv\")"
      ],
      "execution_count": null,
      "outputs": []
    },
    {
      "cell_type": "code",
      "metadata": {
        "id": "qjLKkYg69l0k"
      },
      "source": [
        ""
      ],
      "execution_count": null,
      "outputs": []
    }
  ]
}